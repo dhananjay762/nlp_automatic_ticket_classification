{
 "cells": [
  {
   "cell_type": "markdown",
   "metadata": {
    "id": "rhR-ZUkwJrFn"
   },
   "source": [
    "## Problem Statement \n",
    "\n",
    "You need to build a model that is able to classify customer complaints based on the products/services. By doing so, you can segregate these tickets into their relevant categories and, therefore, help in the quick resolution of the issue.\n",
    "\n",
    "You will be doing topic modelling on the <b>.json</b> data provided by the company. Since this data is not labelled, you need to apply NMF to analyse patterns and classify tickets into the following five clusters based on their products/services:\n",
    "\n",
    "* Credit card / Prepaid card\n",
    "\n",
    "* Bank account services\n",
    "\n",
    "* Theft/Dispute reporting\n",
    "\n",
    "* Mortgages/loans\n",
    "\n",
    "* Others \n",
    "\n",
    "\n",
    "With the help of topic modelling, you will be able to map each ticket onto its respective department/category. You can then use this data to train any supervised model such as logistic regression, decision tree or random forest. Using this trained model, you can classify any new customer complaint support ticket into its relevant department."
   ]
  },
  {
   "cell_type": "markdown",
   "metadata": {
    "id": "mcgXVNyaLUFS"
   },
   "source": [
    "## Pipelines that needs to be performed:\n",
    "\n",
    "You need to perform the following eight major tasks to complete the assignment:\n",
    "\n",
    "1.  Data loading\n",
    "\n",
    "2. Text preprocessing\n",
    "\n",
    "3. Exploratory data analysis (EDA)\n",
    "\n",
    "4. Feature extraction\n",
    "\n",
    "5. Topic modelling \n",
    "\n",
    "6. Model building using supervised learning\n",
    "\n",
    "7. Model training and evaluation\n",
    "\n",
    "8. Model inference"
   ]
  },
  {
   "cell_type": "markdown",
   "metadata": {
    "id": "JuLFIymAL58u"
   },
   "source": [
    "## Importing the necessary libraries"
   ]
  },
  {
   "cell_type": "code",
   "execution_count": 1,
   "metadata": {
    "id": "O-Q9pqrcJrFr"
   },
   "outputs": [],
   "source": [
    "# Import necessary packages and load the model.\n",
    "\n",
    "import json \n",
    "import numpy as np\n",
    "import pandas as pd\n",
    "import re, nltk, spacy, string\n",
    "import en_core_web_sm\n",
    "nlp = en_core_web_sm.load()\n",
    "\n",
    "import seaborn as sns\n",
    "import matplotlib.pyplot as plt\n",
    "%matplotlib inline\n",
    "\n",
    "from plotly.offline import plot\n",
    "import plotly.graph_objects as go\n",
    "import plotly.express as px\n",
    "\n",
    "from sklearn.feature_extraction.text import CountVectorizer, TfidfVectorizer\n",
    "from pprint import pprint\n",
    "\n",
    "from nltk.stem import WordNetLemmatizer\n",
    "from nltk.tokenize import word_tokenize\n",
    "\n",
    "import seaborn as sns\n",
    "import matplotlib.pyplot as plt\n",
    "%matplotlib inline\n",
    "\n",
    "from sklearn.feature_extraction.text import TfidfVectorizer\n",
    "from sklearn.feature_extraction.text import TfidfTransformer\n",
    "from sklearn.feature_extraction.text import CountVectorizer\n",
    "from sklearn.pipeline import Pipeline\n",
    "from sklearn.model_selection import  train_test_split"
   ]
  },
  {
   "cell_type": "code",
   "execution_count": 2,
   "metadata": {
    "colab": {
     "base_uri": "https://localhost:8080/"
    },
    "id": "tOgycLw-fJ8q",
    "outputId": "c601c26c-8935-4313-8440-ab2034e10fa8"
   },
   "outputs": [
    {
     "name": "stdout",
     "output_type": "stream",
     "text": [
      "[nltk_data] Downloading package punkt to /root/nltk_data...\n",
      "[nltk_data]   Unzipping tokenizers/punkt.zip.\n",
      "[nltk_data] Downloading package stopwords to /root/nltk_data...\n",
      "[nltk_data]   Unzipping corpora/stopwords.zip.\n",
      "[nltk_data] Downloading package wordnet to /root/nltk_data...\n",
      "[nltk_data]   Unzipping corpora/wordnet.zip.\n"
     ]
    }
   ],
   "source": [
    "\n",
    "\n",
    "import nltk\n",
    "nltk.download('punkt')\n",
    "nltk.download('stopwords')\n",
    "nltk.download('wordnet')\n",
    "from nltk.corpus import stopwords"
   ]
  },
  {
   "cell_type": "markdown",
   "metadata": {
    "id": "KtRLCsNVJrFt"
   },
   "source": [
    "## Loading the data\n",
    "\n",
    "The data is in JSON format and we need to convert it to a dataframe."
   ]
  },
  {
   "cell_type": "code",
   "execution_count": 3,
   "metadata": {
    "colab": {
     "base_uri": "https://localhost:8080/"
    },
    "id": "xwRps5XQuq9a",
    "outputId": "7d869ce0-56b2-4dc0-f8ba-ca6a69aab944"
   },
   "outputs": [
    {
     "name": "stdout",
     "output_type": "stream",
     "text": [
      "Mounted at /gdrive\n"
     ]
    }
   ],
   "source": [
    "# Using the data by mounting the google drive to run the model in Google Collab\n",
    "\n",
    "from google.colab import drive\n",
    "drive.mount('/gdrive')\n",
    "\n",
    "# from google.colab import drive\n",
    "# drive.mount('/content/drive')"
   ]
  },
  {
   "cell_type": "code",
   "execution_count": 4,
   "metadata": {
    "id": "puVzIf_iJrFt"
   },
   "outputs": [],
   "source": [
    "# Opening JSON file \n",
    "# Write the path to your data file and load it \n",
    "\n",
    "filePath = open('/gdrive/MyDrive/Colab Notebooks/Automatic Ticket Classification Assignment/data/complaints-2021-05-14_08_16.json')\n",
    "# filePath = open('/content/drive/MyDrive/NLP_Automatic_Ticket_Classification/Data/complaints-2021-05-14_08_16.json')"
   ]
  },
  {
   "cell_type": "code",
   "execution_count": 5,
   "metadata": {
    "id": "27-VsgxAu1AW"
   },
   "outputs": [],
   "source": [
    "# returns JSON object as a dictionary \n",
    "\n",
    "data = json.load(filePath)\n",
    "df = pd.json_normalize(data)"
   ]
  },
  {
   "cell_type": "markdown",
   "metadata": {
    "id": "_xYpH-sAJrFu"
   },
   "source": [
    "## Data preparation"
   ]
  },
  {
   "cell_type": "code",
   "execution_count": 6,
   "metadata": {
    "colab": {
     "base_uri": "https://localhost:8080/",
     "height": 376
    },
    "id": "Lf8ufHH5JrFu",
    "outputId": "a8e5fb23-50f9-458d-bc63-8a3299e969d5"
   },
   "outputs": [
    {
     "data": {
      "text/html": [
       "<div>\n",
       "<style scoped>\n",
       "    .dataframe tbody tr th:only-of-type {\n",
       "        vertical-align: middle;\n",
       "    }\n",
       "\n",
       "    .dataframe tbody tr th {\n",
       "        vertical-align: top;\n",
       "    }\n",
       "\n",
       "    .dataframe thead th {\n",
       "        text-align: right;\n",
       "    }\n",
       "</style>\n",
       "<table border=\"1\" class=\"dataframe\">\n",
       "  <thead>\n",
       "    <tr style=\"text-align: right;\">\n",
       "      <th></th>\n",
       "      <th>_index</th>\n",
       "      <th>_type</th>\n",
       "      <th>_id</th>\n",
       "      <th>_score</th>\n",
       "      <th>_source.tags</th>\n",
       "      <th>_source.zip_code</th>\n",
       "      <th>_source.complaint_id</th>\n",
       "      <th>_source.issue</th>\n",
       "      <th>_source.date_received</th>\n",
       "      <th>_source.state</th>\n",
       "      <th>_source.consumer_disputed</th>\n",
       "      <th>_source.product</th>\n",
       "      <th>_source.company_response</th>\n",
       "      <th>_source.company</th>\n",
       "      <th>_source.submitted_via</th>\n",
       "      <th>_source.date_sent_to_company</th>\n",
       "      <th>_source.company_public_response</th>\n",
       "      <th>_source.sub_product</th>\n",
       "      <th>_source.timely</th>\n",
       "      <th>_source.complaint_what_happened</th>\n",
       "      <th>_source.sub_issue</th>\n",
       "      <th>_source.consumer_consent_provided</th>\n",
       "    </tr>\n",
       "  </thead>\n",
       "  <tbody>\n",
       "    <tr>\n",
       "      <th>0</th>\n",
       "      <td>complaint-public-v2</td>\n",
       "      <td>complaint</td>\n",
       "      <td>3211475</td>\n",
       "      <td>0.0</td>\n",
       "      <td>None</td>\n",
       "      <td>90301</td>\n",
       "      <td>3211475</td>\n",
       "      <td>Attempts to collect debt not owed</td>\n",
       "      <td>2019-04-13T12:00:00-05:00</td>\n",
       "      <td>CA</td>\n",
       "      <td>N/A</td>\n",
       "      <td>Debt collection</td>\n",
       "      <td>Closed with explanation</td>\n",
       "      <td>JPMORGAN CHASE &amp; CO.</td>\n",
       "      <td>Web</td>\n",
       "      <td>2019-04-13T12:00:00-05:00</td>\n",
       "      <td>None</td>\n",
       "      <td>Credit card debt</td>\n",
       "      <td>Yes</td>\n",
       "      <td></td>\n",
       "      <td>Debt is not yours</td>\n",
       "      <td>Consent not provided</td>\n",
       "    </tr>\n",
       "    <tr>\n",
       "      <th>1</th>\n",
       "      <td>complaint-public-v2</td>\n",
       "      <td>complaint</td>\n",
       "      <td>3229299</td>\n",
       "      <td>0.0</td>\n",
       "      <td>Servicemember</td>\n",
       "      <td>319XX</td>\n",
       "      <td>3229299</td>\n",
       "      <td>Written notification about debt</td>\n",
       "      <td>2019-05-01T12:00:00-05:00</td>\n",
       "      <td>GA</td>\n",
       "      <td>N/A</td>\n",
       "      <td>Debt collection</td>\n",
       "      <td>Closed with explanation</td>\n",
       "      <td>JPMORGAN CHASE &amp; CO.</td>\n",
       "      <td>Web</td>\n",
       "      <td>2019-05-01T12:00:00-05:00</td>\n",
       "      <td>None</td>\n",
       "      <td>Credit card debt</td>\n",
       "      <td>Yes</td>\n",
       "      <td>Good morning my name is XXXX XXXX and I apprec...</td>\n",
       "      <td>Didn't receive enough information to verify debt</td>\n",
       "      <td>Consent provided</td>\n",
       "    </tr>\n",
       "    <tr>\n",
       "      <th>2</th>\n",
       "      <td>complaint-public-v2</td>\n",
       "      <td>complaint</td>\n",
       "      <td>3199379</td>\n",
       "      <td>0.0</td>\n",
       "      <td>None</td>\n",
       "      <td>77069</td>\n",
       "      <td>3199379</td>\n",
       "      <td>Other features, terms, or problems</td>\n",
       "      <td>2019-04-02T12:00:00-05:00</td>\n",
       "      <td>TX</td>\n",
       "      <td>N/A</td>\n",
       "      <td>Credit card or prepaid card</td>\n",
       "      <td>Closed with explanation</td>\n",
       "      <td>JPMORGAN CHASE &amp; CO.</td>\n",
       "      <td>Web</td>\n",
       "      <td>2019-04-02T12:00:00-05:00</td>\n",
       "      <td>None</td>\n",
       "      <td>General-purpose credit card or charge card</td>\n",
       "      <td>Yes</td>\n",
       "      <td>I upgraded my XXXX XXXX card in XX/XX/2018 and...</td>\n",
       "      <td>Problem with rewards from credit card</td>\n",
       "      <td>Consent provided</td>\n",
       "    </tr>\n",
       "    <tr>\n",
       "      <th>3</th>\n",
       "      <td>complaint-public-v2</td>\n",
       "      <td>complaint</td>\n",
       "      <td>2673060</td>\n",
       "      <td>0.0</td>\n",
       "      <td>None</td>\n",
       "      <td>48066</td>\n",
       "      <td>2673060</td>\n",
       "      <td>Trouble during payment process</td>\n",
       "      <td>2017-09-13T12:00:00-05:00</td>\n",
       "      <td>MI</td>\n",
       "      <td>N/A</td>\n",
       "      <td>Mortgage</td>\n",
       "      <td>Closed with explanation</td>\n",
       "      <td>JPMORGAN CHASE &amp; CO.</td>\n",
       "      <td>Web</td>\n",
       "      <td>2017-09-14T12:00:00-05:00</td>\n",
       "      <td>None</td>\n",
       "      <td>Conventional home mortgage</td>\n",
       "      <td>Yes</td>\n",
       "      <td></td>\n",
       "      <td>None</td>\n",
       "      <td>Consent not provided</td>\n",
       "    </tr>\n",
       "    <tr>\n",
       "      <th>4</th>\n",
       "      <td>complaint-public-v2</td>\n",
       "      <td>complaint</td>\n",
       "      <td>3203545</td>\n",
       "      <td>0.0</td>\n",
       "      <td>None</td>\n",
       "      <td>10473</td>\n",
       "      <td>3203545</td>\n",
       "      <td>Fees or interest</td>\n",
       "      <td>2019-04-05T12:00:00-05:00</td>\n",
       "      <td>NY</td>\n",
       "      <td>N/A</td>\n",
       "      <td>Credit card or prepaid card</td>\n",
       "      <td>Closed with explanation</td>\n",
       "      <td>JPMORGAN CHASE &amp; CO.</td>\n",
       "      <td>Referral</td>\n",
       "      <td>2019-04-05T12:00:00-05:00</td>\n",
       "      <td>None</td>\n",
       "      <td>General-purpose credit card or charge card</td>\n",
       "      <td>Yes</td>\n",
       "      <td></td>\n",
       "      <td>Charged too much interest</td>\n",
       "      <td>N/A</td>\n",
       "    </tr>\n",
       "  </tbody>\n",
       "</table>\n",
       "</div>"
      ],
      "text/plain": [
       "                _index  ... _source.consumer_consent_provided\n",
       "0  complaint-public-v2  ...              Consent not provided\n",
       "1  complaint-public-v2  ...                  Consent provided\n",
       "2  complaint-public-v2  ...                  Consent provided\n",
       "3  complaint-public-v2  ...              Consent not provided\n",
       "4  complaint-public-v2  ...                               N/A\n",
       "\n",
       "[5 rows x 22 columns]"
      ]
     },
     "execution_count": 6,
     "metadata": {},
     "output_type": "execute_result"
    }
   ],
   "source": [
    "# Inspect the dataframe to understand the given data.\n",
    "\n",
    "df.head()"
   ]
  },
  {
   "cell_type": "code",
   "execution_count": 7,
   "metadata": {
    "colab": {
     "base_uri": "https://localhost:8080/"
    },
    "id": "cjVggqhI2Raa",
    "outputId": "e329efa0-af4d-4bb2-9e4c-27d93d39383f"
   },
   "outputs": [
    {
     "data": {
      "text/plain": [
       "(78313, 22)"
      ]
     },
     "execution_count": 7,
     "metadata": {},
     "output_type": "execute_result"
    }
   ],
   "source": [
    "# Lets check the shape of dataframe\n",
    "\n",
    "df.shape"
   ]
  },
  {
   "cell_type": "code",
   "execution_count": 8,
   "metadata": {
    "colab": {
     "base_uri": "https://localhost:8080/"
    },
    "id": "Dwcty-wmJrFw",
    "outputId": "a2203f77-5374-4444-d58f-1f968e410f3e"
   },
   "outputs": [
    {
     "name": "stdout",
     "output_type": "stream",
     "text": [
      "<class 'pandas.core.frame.DataFrame'>\n",
      "RangeIndex: 78313 entries, 0 to 78312\n",
      "Data columns (total 22 columns):\n",
      " #   Column                             Non-Null Count  Dtype  \n",
      "---  ------                             --------------  -----  \n",
      " 0   _index                             78313 non-null  object \n",
      " 1   _type                              78313 non-null  object \n",
      " 2   _id                                78313 non-null  object \n",
      " 3   _score                             78313 non-null  float64\n",
      " 4   _source.tags                       10900 non-null  object \n",
      " 5   _source.zip_code                   71556 non-null  object \n",
      " 6   _source.complaint_id               78313 non-null  object \n",
      " 7   _source.issue                      78313 non-null  object \n",
      " 8   _source.date_received              78313 non-null  object \n",
      " 9   _source.state                      76322 non-null  object \n",
      " 10  _source.consumer_disputed          78313 non-null  object \n",
      " 11  _source.product                    78313 non-null  object \n",
      " 12  _source.company_response           78313 non-null  object \n",
      " 13  _source.company                    78313 non-null  object \n",
      " 14  _source.submitted_via              78313 non-null  object \n",
      " 15  _source.date_sent_to_company       78313 non-null  object \n",
      " 16  _source.company_public_response    4 non-null      object \n",
      " 17  _source.sub_product                67742 non-null  object \n",
      " 18  _source.timely                     78313 non-null  object \n",
      " 19  _source.complaint_what_happened    78313 non-null  object \n",
      " 20  _source.sub_issue                  32016 non-null  object \n",
      " 21  _source.consumer_consent_provided  77305 non-null  object \n",
      "dtypes: float64(1), object(21)\n",
      "memory usage: 13.1+ MB\n"
     ]
    }
   ],
   "source": [
    "# print the column names\n",
    "\n",
    "df.info()"
   ]
  },
  {
   "cell_type": "code",
   "execution_count": 9,
   "metadata": {
    "colab": {
     "base_uri": "https://localhost:8080/"
    },
    "id": "FYCtKXD1JrFw",
    "outputId": "b1c21563-34ec-4581-9e6a-f6ff3fc0e9f4"
   },
   "outputs": [
    {
     "data": {
      "text/plain": [
       "Index(['index', 'type', 'id', 'score', 'tags', 'zip_code', 'complaint_id',\n",
       "       'issue', 'date_received', 'state', 'consumer_disputed', 'product',\n",
       "       'company_response', 'company', 'submitted_via', 'date_sent_to_company',\n",
       "       'company_public_response', 'sub_product', 'timely',\n",
       "       'complaint_what_happened', 'sub_issue', 'consumer_consent_provided'],\n",
       "      dtype='object')"
      ]
     },
     "execution_count": 9,
     "metadata": {},
     "output_type": "execute_result"
    }
   ],
   "source": [
    "#Assign new column names\n",
    "\n",
    "df.columns = [x[1:] for x in df.columns]\n",
    "df.columns = [x.replace('source.', '') for x in df.columns]\n",
    "\n",
    "df.columns"
   ]
  },
  {
   "cell_type": "code",
   "execution_count": 10,
   "metadata": {
    "colab": {
     "base_uri": "https://localhost:8080/"
    },
    "id": "w2feNNjpFpma",
    "outputId": "9cad2ef2-2036-4f65-e639-52b1c1c4d367"
   },
   "outputs": [
    {
     "name": "stdout",
     "output_type": "stream",
     "text": [
      "57241\n"
     ]
    }
   ],
   "source": [
    "# Lets check the total complaints which have blank values\n",
    "\n",
    "lst = [np.nan for x in df['complaint_what_happened'].values if x=='']\n",
    "print(len(lst))"
   ]
  },
  {
   "cell_type": "code",
   "execution_count": 11,
   "metadata": {
    "id": "S_93bDOQFpaC"
   },
   "outputs": [],
   "source": [
    "# Assign nan in place of blanks in the complaints column\n",
    "\n",
    "df.loc[df['complaint_what_happened']=='', 'complaint_what_happened'] = np.nan"
   ]
  },
  {
   "cell_type": "code",
   "execution_count": 12,
   "metadata": {
    "colab": {
     "base_uri": "https://localhost:8080/"
    },
    "id": "Jfxd8VSmJrFy",
    "outputId": "a8f7ae1d-bde8-49c3-bf0e-98b03e616798"
   },
   "outputs": [
    {
     "name": "stdout",
     "output_type": "stream",
     "text": [
      "(21072, 22)\n"
     ]
    }
   ],
   "source": [
    "# Remove all rows where complaints column is nan\n",
    "\n",
    "ticket_df = df[~df['complaint_what_happened'].isnull()]\n",
    "print(ticket_df.shape)"
   ]
  },
  {
   "cell_type": "markdown",
   "metadata": {
    "id": "L944HZpsJrFy"
   },
   "source": [
    "## Prepare the text for topic modeling\n",
    "\n",
    "Once you have removed all the blank complaints, you need to:\n",
    "\n",
    "* Make the text lowercase\n",
    "* Remove text in square brackets\n",
    "* Remove punctuation\n",
    "* Remove words containing numbers\n",
    "\n",
    "\n",
    "Once you have done these cleaning operations you need to perform the following:\n",
    "* Lemmatize the texts\n",
    "* Use POS tags to get relevant words from the texts.\n"
   ]
  },
  {
   "cell_type": "code",
   "execution_count": 13,
   "metadata": {
    "id": "qm7SjjSkJrFz"
   },
   "outputs": [],
   "source": [
    "# Write your function here to clean the text and remove all the unnecessary elements.\n",
    "\n",
    "def clean_text(text):\n",
    "    text = text.lower()\n",
    "    text = re.sub(\"\\[.*?\\]\",'', text)\n",
    "    text = re.sub(\"[^\\w\\s]\", '', text)\n",
    "    text = re.sub(\"\\S*\\d\\S*\", '', text)\n",
    "    return text"
   ]
  },
  {
   "cell_type": "code",
   "execution_count": 14,
   "metadata": {
    "id": "zgOu8t8HJrFz"
   },
   "outputs": [],
   "source": [
    "#Write your function to Lemmatize the texts\n",
    "\n",
    "def lemmatize_text(text):\n",
    "    tokens = word_tokenize(text);\n",
    "    wordnet_lemmatizer = WordNetLemmatizer();\n",
    "    lemmatized = [wordnet_lemmatizer.lemmatize(token) for token in tokens if not token in set(stopwords.words('english'))]\n",
    "    return \" \".join(lemmatized)"
   ]
  },
  {
   "cell_type": "code",
   "execution_count": 15,
   "metadata": {
    "colab": {
     "base_uri": "https://localhost:8080/"
    },
    "id": "uXnN7aa_JrF0",
    "outputId": "aa959824-da7b-4f38-fa06-fd4284f151c9"
   },
   "outputs": [
    {
     "data": {
      "text/plain": [
       "(21072, 2)"
      ]
     },
     "execution_count": 15,
     "metadata": {},
     "output_type": "execute_result"
    }
   ],
   "source": [
    "#Create a dataframe('df_clean') that will have only the complaints and the lemmatized complaints \n",
    "\n",
    "df_clean = pd.DataFrame(columns=['complaints', 'lemmatized_complaints'])\n",
    "\n",
    "for i in range(ticket_df.shape[0]):\n",
    "    df_clean.loc[i] =  [ticket_df.iloc[i]['complaint_what_happened'], lemmatize_text(clean_text(ticket_df.iloc[i]['complaint_what_happened']))]\n",
    "\n",
    "df_clean.shape"
   ]
  },
  {
   "cell_type": "code",
   "execution_count": 16,
   "metadata": {
    "colab": {
     "base_uri": "https://localhost:8080/",
     "height": 204
    },
    "id": "UAksZgfu6XkG",
    "outputId": "fcc84fd3-8790-42d7-d9db-a46074758641"
   },
   "outputs": [
    {
     "data": {
      "text/html": [
       "<div>\n",
       "<style scoped>\n",
       "    .dataframe tbody tr th:only-of-type {\n",
       "        vertical-align: middle;\n",
       "    }\n",
       "\n",
       "    .dataframe tbody tr th {\n",
       "        vertical-align: top;\n",
       "    }\n",
       "\n",
       "    .dataframe thead th {\n",
       "        text-align: right;\n",
       "    }\n",
       "</style>\n",
       "<table border=\"1\" class=\"dataframe\">\n",
       "  <thead>\n",
       "    <tr style=\"text-align: right;\">\n",
       "      <th></th>\n",
       "      <th>complaints</th>\n",
       "      <th>lemmatized_complaints</th>\n",
       "    </tr>\n",
       "  </thead>\n",
       "  <tbody>\n",
       "    <tr>\n",
       "      <th>0</th>\n",
       "      <td>Good morning my name is XXXX XXXX and I apprec...</td>\n",
       "      <td>good morning name xxxx xxxx appreciate could h...</td>\n",
       "    </tr>\n",
       "    <tr>\n",
       "      <th>1</th>\n",
       "      <td>I upgraded my XXXX XXXX card in XX/XX/2018 and...</td>\n",
       "      <td>upgraded xxxx xxxx card told agent upgrade ann...</td>\n",
       "    </tr>\n",
       "    <tr>\n",
       "      <th>2</th>\n",
       "      <td>Chase Card was reported on XX/XX/2019. However...</td>\n",
       "      <td>chase card reported however fraudulent applica...</td>\n",
       "    </tr>\n",
       "    <tr>\n",
       "      <th>3</th>\n",
       "      <td>On XX/XX/2018, while trying to book a XXXX  XX...</td>\n",
       "      <td>trying book xxxx xxxx ticket came across offer...</td>\n",
       "    </tr>\n",
       "    <tr>\n",
       "      <th>4</th>\n",
       "      <td>my grand son give me check for {$1600.00} i de...</td>\n",
       "      <td>grand son give check deposit chase account fun...</td>\n",
       "    </tr>\n",
       "  </tbody>\n",
       "</table>\n",
       "</div>"
      ],
      "text/plain": [
       "                                          complaints                              lemmatized_complaints\n",
       "0  Good morning my name is XXXX XXXX and I apprec...  good morning name xxxx xxxx appreciate could h...\n",
       "1  I upgraded my XXXX XXXX card in XX/XX/2018 and...  upgraded xxxx xxxx card told agent upgrade ann...\n",
       "2  Chase Card was reported on XX/XX/2019. However...  chase card reported however fraudulent applica...\n",
       "3  On XX/XX/2018, while trying to book a XXXX  XX...  trying book xxxx xxxx ticket came across offer...\n",
       "4  my grand son give me check for {$1600.00} i de...  grand son give check deposit chase account fun..."
      ]
     },
     "execution_count": 16,
     "metadata": {},
     "output_type": "execute_result"
    }
   ],
   "source": [
    "# Print head of dataframe after text cleaning and lemmatization\n",
    "\n",
    "df_clean.head(5)"
   ]
  },
  {
   "cell_type": "code",
   "execution_count": 17,
   "metadata": {
    "id": "Kk7fc4DuJrF1"
   },
   "outputs": [],
   "source": [
    "# Write your function to extract the POS tags \n",
    "\n",
    "def extract_pos_tag(text):\n",
    "    doc = nlp(text)\n",
    "    result = []\n",
    "    for token in doc:\n",
    "        if(token.pos_=='NOUN'):\n",
    "            result.append(token.text)\n",
    "    return \" \".join(result)"
   ]
  },
  {
   "cell_type": "code",
   "execution_count": 18,
   "metadata": {
    "id": "AjxfchvFJrF2"
   },
   "outputs": [],
   "source": [
    "#The clean dataframe should now contain the raw complaint, lemmatized complaint and the complaint after removing POS tags.\n",
    "\n",
    "df_clean['complaints_with_removed_pos'] = ''\n",
    "for i in range(ticket_df.shape[0]):\n",
    "    df_clean.loc[i, 'complaints_with_removed_pos'] = extract_pos_tag(df_clean.iloc[i]['lemmatized_complaints'])"
   ]
  },
  {
   "cell_type": "code",
   "execution_count": 20,
   "metadata": {
    "colab": {
     "base_uri": "https://localhost:8080/",
     "height": 204
    },
    "id": "slWsRfFZ9g3v",
    "outputId": "3371d333-af4c-4f43-dc80-b81ce5477762"
   },
   "outputs": [
    {
     "data": {
      "text/html": [
       "<div>\n",
       "<style scoped>\n",
       "    .dataframe tbody tr th:only-of-type {\n",
       "        vertical-align: middle;\n",
       "    }\n",
       "\n",
       "    .dataframe tbody tr th {\n",
       "        vertical-align: top;\n",
       "    }\n",
       "\n",
       "    .dataframe thead th {\n",
       "        text-align: right;\n",
       "    }\n",
       "</style>\n",
       "<table border=\"1\" class=\"dataframe\">\n",
       "  <thead>\n",
       "    <tr style=\"text-align: right;\">\n",
       "      <th></th>\n",
       "      <th>complaints</th>\n",
       "      <th>lemmatized_complaints</th>\n",
       "      <th>complaints_with_removed_pos</th>\n",
       "    </tr>\n",
       "  </thead>\n",
       "  <tbody>\n",
       "    <tr>\n",
       "      <th>0</th>\n",
       "      <td>Good morning my name is XXXX XXXX and I apprec...</td>\n",
       "      <td>good morning name xxxx xxxx appreciate could h...</td>\n",
       "      <td>morning name chase debt verification statement...</td>\n",
       "    </tr>\n",
       "    <tr>\n",
       "      <th>1</th>\n",
       "      <td>I upgraded my XXXX XXXX card in XX/XX/2018 and...</td>\n",
       "      <td>upgraded xxxx xxxx card told agent upgrade ann...</td>\n",
       "      <td>card agent anniversary date agent information ...</td>\n",
       "    </tr>\n",
       "    <tr>\n",
       "      <th>2</th>\n",
       "      <td>Chase Card was reported on XX/XX/2019. However...</td>\n",
       "      <td>chase card reported however fraudulent applica...</td>\n",
       "      <td>card application identity consent service cred...</td>\n",
       "    </tr>\n",
       "    <tr>\n",
       "      <th>3</th>\n",
       "      <td>On XX/XX/2018, while trying to book a XXXX  XX...</td>\n",
       "      <td>trying book xxxx xxxx ticket came across offer...</td>\n",
       "      <td>ticket offer ticket reward card information of...</td>\n",
       "    </tr>\n",
       "    <tr>\n",
       "      <th>4</th>\n",
       "      <td>my grand son give me check for {$1600.00} i de...</td>\n",
       "      <td>grand son give check deposit chase account fun...</td>\n",
       "      <td>son check account money son money pay son time...</td>\n",
       "    </tr>\n",
       "  </tbody>\n",
       "</table>\n",
       "</div>"
      ],
      "text/plain": [
       "                                          complaints  ...                        complaints_with_removed_pos\n",
       "0  Good morning my name is XXXX XXXX and I apprec...  ...  morning name chase debt verification statement...\n",
       "1  I upgraded my XXXX XXXX card in XX/XX/2018 and...  ...  card agent anniversary date agent information ...\n",
       "2  Chase Card was reported on XX/XX/2019. However...  ...  card application identity consent service cred...\n",
       "3  On XX/XX/2018, while trying to book a XXXX  XX...  ...  ticket offer ticket reward card information of...\n",
       "4  my grand son give me check for {$1600.00} i de...  ...  son check account money son money pay son time...\n",
       "\n",
       "[5 rows x 3 columns]"
      ]
     },
     "execution_count": 20,
     "metadata": {},
     "output_type": "execute_result"
    }
   ],
   "source": [
    "# Print head of dataframe after removing POS tags on complaints\n",
    "\n",
    "df_clean.head(5)"
   ]
  },
  {
   "cell_type": "markdown",
   "metadata": {
    "id": "_7Un1AElJrF2"
   },
   "source": [
    "## Exploratory data analysis to get familiar with the data.\n",
    "\n",
    "Write the code in this task to perform the following:\n",
    "\n",
    "*   Visualise the data according to the 'Complaint' character length\n",
    "*   Using a word cloud find the top 40 words by frequency among all the articles after processing the text\n",
    "*   Find the top unigrams,bigrams and trigrams by frequency among all the complaints after processing the text. ‘\n",
    "\n",
    "\n"
   ]
  },
  {
   "cell_type": "code",
   "execution_count": 21,
   "metadata": {
    "colab": {
     "base_uri": "https://localhost:8080/",
     "height": 483
    },
    "id": "q-zaqJF6JrF2",
    "outputId": "254c12ea-cde6-4974-91fc-416f123fab79"
   },
   "outputs": [
    {
     "data": {
      "image/png": "[encoded data removed]",
      "text/plain": [
       "<Figure size 720x576 with 1 Axes>"
      ]
     },
     "metadata": {
      "needs_background": "light"
     },
     "output_type": "display_data"
    }
   ],
   "source": [
    "# Write your code here to visualise the data according to the 'Complaint' character length\n",
    "\n",
    "plt.figure(figsize=(10,8))\n",
    "# comp_len = [len(d) for d in df_clean.complaints_with_removed_pos]\n",
    "comp_len = [len(d) for d in df_clean.complaints]\n",
    "plt.hist(comp_len, bins = 40)\n",
    "\n",
    "plt.show()"
   ]
  },
  {
   "cell_type": "markdown",
   "metadata": {
    "id": "T9jD_6SeJrF3"
   },
   "source": [
    "#### Find the top 40 words by frequency among all the articles after processing the text."
   ]
  },
  {
   "cell_type": "code",
   "execution_count": 22,
   "metadata": {
    "colab": {
     "base_uri": "https://localhost:8080/"
    },
    "id": "QcfdvtfZJrF3",
    "outputId": "7f1c0c97-41ca-4046-a60e-b8b083772275"
   },
   "outputs": [
    {
     "name": "stdout",
     "output_type": "stream",
     "text": [
      "{'card': 1.0, 'credit': 0.5714285714285714, 'son': 0.42857142857142855, 'account': 0.42857142857142855, 'pay': 0.42857142857142855, 'name': 0.2857142857142857, 'chase': 0.2857142857142857, 'agent': 0.2857142857142857, 'information': 0.2857142857142857, 'ticket': 0.2857142857142857, 'money': 0.2857142857142857, 'year': 0.2857142857142857, 'morning': 0.14285714285714285, 'debt': 0.14285714285714285, 'verification': 0.14285714285714285, 'statement': 0.14285714285714285, 'anniversary': 0.14285714285714285, 'date': 0.14285714285714285, 'application': 0.14285714285714285, 'identity': 0.14285714285714285, 'consent': 0.14285714285714285, 'service': 0.14285714285714285, 'cred': 0.14285714285714285, 'offer': 0.14285714285714285, 'reward': 0.14285714285714285, 'check': 0.14285714285714285, 'time': 0.14285714285714285, 'customer': 0.14285714285714285, 'decade': 0.14285714285714285, 'solicitation': 0.14285714285714285, 'provider': 0.14285714285714285, 'claim': 0.14285714285714285, 'purchase': 0.14285714285714285, 'protection': 0.14285714285714285, 'benefi': 0.14285714285714285, 'risk': 0.14285714285714285, 'consumer': 0.14285714285714285, 'trust': 0.14285714285714285, 'banking': 0.14285714285714285, 'deal': 0.14285714285714285}\n"
     ]
    }
   ],
   "source": [
    "#Using a word cloud find the top 40 words by frequency among all the articles after processing the text\n",
    "\n",
    "from wordcloud import WordCloud\n",
    "\n",
    "# stopwordslist = set(stopwords.words(\"english\"))\n",
    "# print(stopwordslist)\n",
    "\n",
    "WC = WordCloud(max_words=40).generate(str(df_clean.complaints_with_removed_pos))\n",
    "\n",
    "print(WC.words_)"
   ]
  },
  {
   "cell_type": "code",
   "execution_count": 23,
   "metadata": {
    "colab": {
     "base_uri": "https://localhost:8080/",
     "height": 1000
    },
    "id": "gGXQNkHZQdt1",
    "outputId": "bfec69b6-eefc-43e2-d920-d79769fec710",
    "scrolled": true
   },
   "outputs": [
    {
     "data": {
      "text/html": [
       "<div>\n",
       "<style scoped>\n",
       "    .dataframe tbody tr th:only-of-type {\n",
       "        vertical-align: middle;\n",
       "    }\n",
       "\n",
       "    .dataframe tbody tr th {\n",
       "        vertical-align: top;\n",
       "    }\n",
       "\n",
       "    .dataframe thead th {\n",
       "        text-align: right;\n",
       "    }\n",
       "</style>\n",
       "<table border=\"1\" class=\"dataframe\">\n",
       "  <thead>\n",
       "    <tr style=\"text-align: right;\">\n",
       "      <th></th>\n",
       "      <th>word</th>\n",
       "      <th>frequency_score</th>\n",
       "    </tr>\n",
       "  </thead>\n",
       "  <tbody>\n",
       "    <tr>\n",
       "      <th>0</th>\n",
       "      <td>card</td>\n",
       "      <td>1.000000</td>\n",
       "    </tr>\n",
       "    <tr>\n",
       "      <th>1</th>\n",
       "      <td>credit</td>\n",
       "      <td>0.571429</td>\n",
       "    </tr>\n",
       "    <tr>\n",
       "      <th>2</th>\n",
       "      <td>son</td>\n",
       "      <td>0.428571</td>\n",
       "    </tr>\n",
       "    <tr>\n",
       "      <th>3</th>\n",
       "      <td>account</td>\n",
       "      <td>0.428571</td>\n",
       "    </tr>\n",
       "    <tr>\n",
       "      <th>4</th>\n",
       "      <td>pay</td>\n",
       "      <td>0.428571</td>\n",
       "    </tr>\n",
       "    <tr>\n",
       "      <th>5</th>\n",
       "      <td>name</td>\n",
       "      <td>0.285714</td>\n",
       "    </tr>\n",
       "    <tr>\n",
       "      <th>6</th>\n",
       "      <td>chase</td>\n",
       "      <td>0.285714</td>\n",
       "    </tr>\n",
       "    <tr>\n",
       "      <th>7</th>\n",
       "      <td>agent</td>\n",
       "      <td>0.285714</td>\n",
       "    </tr>\n",
       "    <tr>\n",
       "      <th>8</th>\n",
       "      <td>information</td>\n",
       "      <td>0.285714</td>\n",
       "    </tr>\n",
       "    <tr>\n",
       "      <th>9</th>\n",
       "      <td>ticket</td>\n",
       "      <td>0.285714</td>\n",
       "    </tr>\n",
       "    <tr>\n",
       "      <th>10</th>\n",
       "      <td>money</td>\n",
       "      <td>0.285714</td>\n",
       "    </tr>\n",
       "    <tr>\n",
       "      <th>11</th>\n",
       "      <td>year</td>\n",
       "      <td>0.285714</td>\n",
       "    </tr>\n",
       "    <tr>\n",
       "      <th>12</th>\n",
       "      <td>morning</td>\n",
       "      <td>0.142857</td>\n",
       "    </tr>\n",
       "    <tr>\n",
       "      <th>13</th>\n",
       "      <td>debt</td>\n",
       "      <td>0.142857</td>\n",
       "    </tr>\n",
       "    <tr>\n",
       "      <th>14</th>\n",
       "      <td>verification</td>\n",
       "      <td>0.142857</td>\n",
       "    </tr>\n",
       "    <tr>\n",
       "      <th>15</th>\n",
       "      <td>statement</td>\n",
       "      <td>0.142857</td>\n",
       "    </tr>\n",
       "    <tr>\n",
       "      <th>16</th>\n",
       "      <td>anniversary</td>\n",
       "      <td>0.142857</td>\n",
       "    </tr>\n",
       "    <tr>\n",
       "      <th>17</th>\n",
       "      <td>date</td>\n",
       "      <td>0.142857</td>\n",
       "    </tr>\n",
       "    <tr>\n",
       "      <th>18</th>\n",
       "      <td>application</td>\n",
       "      <td>0.142857</td>\n",
       "    </tr>\n",
       "    <tr>\n",
       "      <th>19</th>\n",
       "      <td>identity</td>\n",
       "      <td>0.142857</td>\n",
       "    </tr>\n",
       "    <tr>\n",
       "      <th>20</th>\n",
       "      <td>consent</td>\n",
       "      <td>0.142857</td>\n",
       "    </tr>\n",
       "    <tr>\n",
       "      <th>21</th>\n",
       "      <td>service</td>\n",
       "      <td>0.142857</td>\n",
       "    </tr>\n",
       "    <tr>\n",
       "      <th>22</th>\n",
       "      <td>cred</td>\n",
       "      <td>0.142857</td>\n",
       "    </tr>\n",
       "    <tr>\n",
       "      <th>23</th>\n",
       "      <td>offer</td>\n",
       "      <td>0.142857</td>\n",
       "    </tr>\n",
       "    <tr>\n",
       "      <th>24</th>\n",
       "      <td>reward</td>\n",
       "      <td>0.142857</td>\n",
       "    </tr>\n",
       "    <tr>\n",
       "      <th>25</th>\n",
       "      <td>check</td>\n",
       "      <td>0.142857</td>\n",
       "    </tr>\n",
       "    <tr>\n",
       "      <th>26</th>\n",
       "      <td>time</td>\n",
       "      <td>0.142857</td>\n",
       "    </tr>\n",
       "    <tr>\n",
       "      <th>27</th>\n",
       "      <td>customer</td>\n",
       "      <td>0.142857</td>\n",
       "    </tr>\n",
       "    <tr>\n",
       "      <th>28</th>\n",
       "      <td>decade</td>\n",
       "      <td>0.142857</td>\n",
       "    </tr>\n",
       "    <tr>\n",
       "      <th>29</th>\n",
       "      <td>solicitation</td>\n",
       "      <td>0.142857</td>\n",
       "    </tr>\n",
       "    <tr>\n",
       "      <th>30</th>\n",
       "      <td>provider</td>\n",
       "      <td>0.142857</td>\n",
       "    </tr>\n",
       "    <tr>\n",
       "      <th>31</th>\n",
       "      <td>claim</td>\n",
       "      <td>0.142857</td>\n",
       "    </tr>\n",
       "    <tr>\n",
       "      <th>32</th>\n",
       "      <td>purchase</td>\n",
       "      <td>0.142857</td>\n",
       "    </tr>\n",
       "    <tr>\n",
       "      <th>33</th>\n",
       "      <td>protection</td>\n",
       "      <td>0.142857</td>\n",
       "    </tr>\n",
       "    <tr>\n",
       "      <th>34</th>\n",
       "      <td>benefi</td>\n",
       "      <td>0.142857</td>\n",
       "    </tr>\n",
       "    <tr>\n",
       "      <th>35</th>\n",
       "      <td>risk</td>\n",
       "      <td>0.142857</td>\n",
       "    </tr>\n",
       "    <tr>\n",
       "      <th>36</th>\n",
       "      <td>consumer</td>\n",
       "      <td>0.142857</td>\n",
       "    </tr>\n",
       "    <tr>\n",
       "      <th>37</th>\n",
       "      <td>trust</td>\n",
       "      <td>0.142857</td>\n",
       "    </tr>\n",
       "    <tr>\n",
       "      <th>38</th>\n",
       "      <td>banking</td>\n",
       "      <td>0.142857</td>\n",
       "    </tr>\n",
       "    <tr>\n",
       "      <th>39</th>\n",
       "      <td>deal</td>\n",
       "      <td>0.142857</td>\n",
       "    </tr>\n",
       "  </tbody>\n",
       "</table>\n",
       "</div>"
      ],
      "text/plain": [
       "            word  frequency_score\n",
       "0           card         1.000000\n",
       "1         credit         0.571429\n",
       "2            son         0.428571\n",
       "3        account         0.428571\n",
       "4            pay         0.428571\n",
       "5           name         0.285714\n",
       "6          chase         0.285714\n",
       "7          agent         0.285714\n",
       "8    information         0.285714\n",
       "9         ticket         0.285714\n",
       "10         money         0.285714\n",
       "11          year         0.285714\n",
       "12       morning         0.142857\n",
       "13          debt         0.142857\n",
       "14  verification         0.142857\n",
       "15     statement         0.142857\n",
       "16   anniversary         0.142857\n",
       "17          date         0.142857\n",
       "18   application         0.142857\n",
       "19      identity         0.142857\n",
       "20       consent         0.142857\n",
       "21       service         0.142857\n",
       "22          cred         0.142857\n",
       "23         offer         0.142857\n",
       "24        reward         0.142857\n",
       "25         check         0.142857\n",
       "26          time         0.142857\n",
       "27      customer         0.142857\n",
       "28        decade         0.142857\n",
       "29  solicitation         0.142857\n",
       "30      provider         0.142857\n",
       "31         claim         0.142857\n",
       "32      purchase         0.142857\n",
       "33    protection         0.142857\n",
       "34        benefi         0.142857\n",
       "35          risk         0.142857\n",
       "36      consumer         0.142857\n",
       "37         trust         0.142857\n",
       "38       banking         0.142857\n",
       "39          deal         0.142857"
      ]
     },
     "execution_count": 23,
     "metadata": {},
     "output_type": "execute_result"
    }
   ],
   "source": [
    "# Top 40 words by frequency using word cloud\n",
    "\n",
    "wordCloud_df = pd.DataFrame(list(WC.words_.items()), columns={'word', 'frequency_score'})\n",
    "wordCloud_df"
   ]
  },
  {
   "cell_type": "code",
   "execution_count": 24,
   "metadata": {
    "colab": {
     "base_uri": "https://localhost:8080/",
     "height": 469
    },
    "id": "hGNyjBKg6WPX",
    "outputId": "9d0ac5c5-0342-4d5f-bec5-0bac51761ce2"
   },
   "outputs": [
    {
     "data": {
      "image/png": "[encoded data removed]",
      "text/plain": [
       "<Figure size 1080x864 with 1 Axes>"
      ]
     },
     "metadata": {
      "needs_background": "light"
     },
     "output_type": "display_data"
    }
   ],
   "source": [
    "# Visualise the top words by frequency using word cloud\n",
    "\n",
    "fig = plt.figure(figsize=(15,12))\n",
    "WC.background_color = 'Red'\n",
    "plt.imshow(WC)\n",
    "plt.show();"
   ]
  },
  {
   "cell_type": "code",
   "execution_count": 25,
   "metadata": {
    "colab": {
     "base_uri": "https://localhost:8080/",
     "height": 204
    },
    "id": "OkSmc3UaJrF4",
    "outputId": "d2d20ad2-4021-46cc-b1d4-99f48d027bec"
   },
   "outputs": [
    {
     "data": {
      "text/html": [
       "<div>\n",
       "<style scoped>\n",
       "    .dataframe tbody tr th:only-of-type {\n",
       "        vertical-align: middle;\n",
       "    }\n",
       "\n",
       "    .dataframe tbody tr th {\n",
       "        vertical-align: top;\n",
       "    }\n",
       "\n",
       "    .dataframe thead th {\n",
       "        text-align: right;\n",
       "    }\n",
       "</style>\n",
       "<table border=\"1\" class=\"dataframe\">\n",
       "  <thead>\n",
       "    <tr style=\"text-align: right;\">\n",
       "      <th></th>\n",
       "      <th>complaints</th>\n",
       "      <th>lemmatized_complaints</th>\n",
       "      <th>complaints_with_removed_pos</th>\n",
       "      <th>complaint_clean</th>\n",
       "    </tr>\n",
       "  </thead>\n",
       "  <tbody>\n",
       "    <tr>\n",
       "      <th>0</th>\n",
       "      <td>Good morning my name is XXXX XXXX and I apprec...</td>\n",
       "      <td>good morning name xxxx xxxx appreciate could h...</td>\n",
       "      <td>morning name chase debt verification statement...</td>\n",
       "      <td>morning name chase debt verification statement...</td>\n",
       "    </tr>\n",
       "    <tr>\n",
       "      <th>1</th>\n",
       "      <td>I upgraded my XXXX XXXX card in XX/XX/2018 and...</td>\n",
       "      <td>upgraded xxxx xxxx card told agent upgrade ann...</td>\n",
       "      <td>card agent anniversary date agent information ...</td>\n",
       "      <td>card agent anniversary date agent information ...</td>\n",
       "    </tr>\n",
       "    <tr>\n",
       "      <th>2</th>\n",
       "      <td>Chase Card was reported on XX/XX/2019. However...</td>\n",
       "      <td>chase card reported however fraudulent applica...</td>\n",
       "      <td>card application identity consent service cred...</td>\n",
       "      <td>card application identity consent service cred...</td>\n",
       "    </tr>\n",
       "    <tr>\n",
       "      <th>3</th>\n",
       "      <td>On XX/XX/2018, while trying to book a XXXX  XX...</td>\n",
       "      <td>trying book xxxx xxxx ticket came across offer...</td>\n",
       "      <td>ticket offer ticket reward card information of...</td>\n",
       "      <td>ticket offer ticket reward card information of...</td>\n",
       "    </tr>\n",
       "    <tr>\n",
       "      <th>4</th>\n",
       "      <td>my grand son give me check for {$1600.00} i de...</td>\n",
       "      <td>grand son give check deposit chase account fun...</td>\n",
       "      <td>son check account money son money pay son time...</td>\n",
       "      <td>son check account money son money pay son time...</td>\n",
       "    </tr>\n",
       "  </tbody>\n",
       "</table>\n",
       "</div>"
      ],
      "text/plain": [
       "                                          complaints  ...                                    complaint_clean\n",
       "0  Good morning my name is XXXX XXXX and I apprec...  ...  morning name chase debt verification statement...\n",
       "1  I upgraded my XXXX XXXX card in XX/XX/2018 and...  ...  card agent anniversary date agent information ...\n",
       "2  Chase Card was reported on XX/XX/2019. However...  ...  card application identity consent service cred...\n",
       "3  On XX/XX/2018, while trying to book a XXXX  XX...  ...  ticket offer ticket reward card information of...\n",
       "4  my grand son give me check for {$1600.00} i de...  ...  son check account money son money pay son time...\n",
       "\n",
       "[5 rows x 4 columns]"
      ]
     },
     "execution_count": 25,
     "metadata": {},
     "output_type": "execute_result"
    }
   ],
   "source": [
    "#Removing -PRON- from the text corpus\n",
    "\n",
    "df_clean['complaint_clean'] = df_clean['complaints_with_removed_pos'].str.replace('-PRON-', '')\n",
    "df_clean.head()"
   ]
  },
  {
   "cell_type": "markdown",
   "metadata": {
    "id": "5DfCSbbmJrF4"
   },
   "source": [
    "#### Find the top unigrams,bigrams and trigrams by frequency among all the complaints after processing the text."
   ]
  },
  {
   "cell_type": "code",
   "execution_count": 26,
   "metadata": {
    "id": "ZKL5B5iphEbK"
   },
   "outputs": [],
   "source": [
    "# Function to get ngrams - unigrams, bigrams and trigrams\n",
    "\n",
    "def extract_top_ngram(cleaned_text_corpus, n_gram, top_ngram_count):\n",
    "    vec = CountVectorizer(ngram_range=(n_gram, n_gram),stop_words='english')\n",
    "    bow = vec.fit_transform(cleaned_text_corpus)\n",
    "    sum_words = bow.sum(axis=0)\n",
    "    words_freq = [(word, sum_words[0, idx]) for word, idx in vec.vocabulary_.items()]\n",
    "    words_freq =sorted(words_freq, key = lambda x: x[1], reverse=True)\n",
    "    return words_freq[0:top_ngram_count]"
   ]
  },
  {
   "cell_type": "code",
   "execution_count": 27,
   "metadata": {
    "id": "zeBufiIijl9w"
   },
   "outputs": [],
   "source": [
    "# Write your code here to find the top 30 unigram frequency among the complaints in the cleaned datafram(df_clean).\n",
    "\n",
    "unigram_df = pd.DataFrame(extract_top_ngram(df_clean['complaint_clean'], 1, 30))\n",
    "unigram_df.rename(columns = {0:'Unigram', 1:'Count'}, inplace=True)"
   ]
  },
  {
   "cell_type": "code",
   "execution_count": 28,
   "metadata": {
    "colab": {
     "base_uri": "https://localhost:8080/",
     "height": 358
    },
    "id": "2DYIwELkl3sN",
    "outputId": "cc8bbedf-dda4-4b27-9693-9c3d1ff62e4a"
   },
   "outputs": [
    {
     "data": {
      "text/html": [
       "<div>\n",
       "<style scoped>\n",
       "    .dataframe tbody tr th:only-of-type {\n",
       "        vertical-align: middle;\n",
       "    }\n",
       "\n",
       "    .dataframe tbody tr th {\n",
       "        vertical-align: top;\n",
       "    }\n",
       "\n",
       "    .dataframe thead th {\n",
       "        text-align: right;\n",
       "    }\n",
       "</style>\n",
       "<table border=\"1\" class=\"dataframe\">\n",
       "  <thead>\n",
       "    <tr style=\"text-align: right;\">\n",
       "      <th></th>\n",
       "      <th>Unigram</th>\n",
       "      <th>Count</th>\n",
       "    </tr>\n",
       "  </thead>\n",
       "  <tbody>\n",
       "    <tr>\n",
       "      <th>0</th>\n",
       "      <td>account</td>\n",
       "      <td>41436</td>\n",
       "    </tr>\n",
       "    <tr>\n",
       "      <th>1</th>\n",
       "      <td>chase</td>\n",
       "      <td>34561</td>\n",
       "    </tr>\n",
       "    <tr>\n",
       "      <th>2</th>\n",
       "      <td>credit</td>\n",
       "      <td>30348</td>\n",
       "    </tr>\n",
       "    <tr>\n",
       "      <th>3</th>\n",
       "      <td>card</td>\n",
       "      <td>29673</td>\n",
       "    </tr>\n",
       "    <tr>\n",
       "      <th>4</th>\n",
       "      <td>payment</td>\n",
       "      <td>20454</td>\n",
       "    </tr>\n",
       "    <tr>\n",
       "      <th>5</th>\n",
       "      <td>time</td>\n",
       "      <td>15698</td>\n",
       "    </tr>\n",
       "    <tr>\n",
       "      <th>6</th>\n",
       "      <td>charge</td>\n",
       "      <td>12156</td>\n",
       "    </tr>\n",
       "    <tr>\n",
       "      <th>7</th>\n",
       "      <td>money</td>\n",
       "      <td>11590</td>\n",
       "    </tr>\n",
       "    <tr>\n",
       "      <th>8</th>\n",
       "      <td>day</td>\n",
       "      <td>10628</td>\n",
       "    </tr>\n",
       "    <tr>\n",
       "      <th>9</th>\n",
       "      <td>check</td>\n",
       "      <td>10098</td>\n",
       "    </tr>\n",
       "  </tbody>\n",
       "</table>\n",
       "</div>"
      ],
      "text/plain": [
       "   Unigram  Count\n",
       "0  account  41436\n",
       "1    chase  34561\n",
       "2   credit  30348\n",
       "3     card  29673\n",
       "4  payment  20454\n",
       "5     time  15698\n",
       "6   charge  12156\n",
       "7    money  11590\n",
       "8      day  10628\n",
       "9    check  10098"
      ]
     },
     "execution_count": 28,
     "metadata": {},
     "output_type": "execute_result"
    }
   ],
   "source": [
    "# Print the top 10 words in the unigram frequency\n",
    "\n",
    "unigram_df.iloc[:10,:]"
   ]
  },
  {
   "cell_type": "code",
   "execution_count": 29,
   "metadata": {
    "colab": {
     "base_uri": "https://localhost:8080/",
     "height": 404
    },
    "id": "2RqdwzD5mFOS",
    "outputId": "445fe976-7c07-4ea6-9242-4743b6e2a699"
   },
   "outputs": [
    {
     "data": {
      "image/png": "[encoded data removed]",
      "text/plain": [
       "<Figure size 720x432 with 1 Axes>"
      ]
     },
     "metadata": {
      "needs_background": "light"
     },
     "output_type": "display_data"
    }
   ],
   "source": [
    "# Visualise the unigrams using barplot\n",
    "\n",
    "plt.figure(figsize=(10,6))\n",
    "sns.barplot(x='Unigram', y='Count', data=unigram_df.iloc[:10,:])\n",
    "plt.title('Unigram Word Frequency')\n",
    "plt.show()"
   ]
  },
  {
   "cell_type": "code",
   "execution_count": 30,
   "metadata": {
    "id": "3V0p0oKvnELk"
   },
   "outputs": [],
   "source": [
    "# Write your code here to find the top 30 bigram frequency among the complaints in the cleaned datafram(df_clean). \n",
    "\n",
    "bigram_df = pd.DataFrame(extract_top_ngram(df_clean['complaint_clean'], 2, 30))\n",
    "bigram_df.rename(columns = {0:'Bigram', 1:'Count'}, inplace=True)"
   ]
  },
  {
   "cell_type": "code",
   "execution_count": 31,
   "metadata": {
    "colab": {
     "base_uri": "https://localhost:8080/",
     "height": 358
    },
    "id": "N36OIvJQnOGn",
    "outputId": "8575e3d1-718a-4b09-dc49-b7d6d0119f41"
   },
   "outputs": [
    {
     "data": {
      "text/html": [
       "<div>\n",
       "<style scoped>\n",
       "    .dataframe tbody tr th:only-of-type {\n",
       "        vertical-align: middle;\n",
       "    }\n",
       "\n",
       "    .dataframe tbody tr th {\n",
       "        vertical-align: top;\n",
       "    }\n",
       "\n",
       "    .dataframe thead th {\n",
       "        text-align: right;\n",
       "    }\n",
       "</style>\n",
       "<table border=\"1\" class=\"dataframe\">\n",
       "  <thead>\n",
       "    <tr style=\"text-align: right;\">\n",
       "      <th></th>\n",
       "      <th>Bigram</th>\n",
       "      <th>Count</th>\n",
       "    </tr>\n",
       "  </thead>\n",
       "  <tbody>\n",
       "    <tr>\n",
       "      <th>0</th>\n",
       "      <td>credit card</td>\n",
       "      <td>12150</td>\n",
       "    </tr>\n",
       "    <tr>\n",
       "      <th>1</th>\n",
       "      <td>credit report</td>\n",
       "      <td>3461</td>\n",
       "    </tr>\n",
       "    <tr>\n",
       "      <th>2</th>\n",
       "      <td>account account</td>\n",
       "      <td>2722</td>\n",
       "    </tr>\n",
       "    <tr>\n",
       "      <th>3</th>\n",
       "      <td>customer service</td>\n",
       "      <td>2450</td>\n",
       "    </tr>\n",
       "    <tr>\n",
       "      <th>4</th>\n",
       "      <td>chase credit</td>\n",
       "      <td>2213</td>\n",
       "    </tr>\n",
       "    <tr>\n",
       "      <th>5</th>\n",
       "      <td>card account</td>\n",
       "      <td>1787</td>\n",
       "    </tr>\n",
       "    <tr>\n",
       "      <th>6</th>\n",
       "      <td>account chase</td>\n",
       "      <td>1774</td>\n",
       "    </tr>\n",
       "    <tr>\n",
       "      <th>7</th>\n",
       "      <td>chase account</td>\n",
       "      <td>1746</td>\n",
       "    </tr>\n",
       "    <tr>\n",
       "      <th>8</th>\n",
       "      <td>credit score</td>\n",
       "      <td>1642</td>\n",
       "    </tr>\n",
       "    <tr>\n",
       "      <th>9</th>\n",
       "      <td>payment payment</td>\n",
       "      <td>1577</td>\n",
       "    </tr>\n",
       "  </tbody>\n",
       "</table>\n",
       "</div>"
      ],
      "text/plain": [
       "             Bigram  Count\n",
       "0       credit card  12150\n",
       "1     credit report   3461\n",
       "2   account account   2722\n",
       "3  customer service   2450\n",
       "4      chase credit   2213\n",
       "5      card account   1787\n",
       "6     account chase   1774\n",
       "7     chase account   1746\n",
       "8      credit score   1642\n",
       "9   payment payment   1577"
      ]
     },
     "execution_count": 31,
     "metadata": {},
     "output_type": "execute_result"
    }
   ],
   "source": [
    "# Print the top 10 words in the bigram frequency\n",
    "bigram_df.iloc[:10, :]"
   ]
  },
  {
   "cell_type": "code",
   "execution_count": 32,
   "metadata": {
    "colab": {
     "base_uri": "https://localhost:8080/",
     "height": 449
    },
    "id": "bHA1BOS2oOoM",
    "outputId": "cfb69618-be51-481b-99ee-dfec49302258"
   },
   "outputs": [
    {
     "data": {
      "image/png": "[encoded data removed]",
      "text/plain": [
       "<Figure size 720x432 with 1 Axes>"
      ]
     },
     "metadata": {
      "needs_background": "light"
     },
     "output_type": "display_data"
    }
   ],
   "source": [
    "# Visualise the bigrams using barplot\n",
    "\n",
    "plt.figure(figsize=(10,6))\n",
    "sns.barplot(x='Bigram', y='Count', data=bigram_df.iloc[:10,:])\n",
    "plt.xticks(rotation=30)\n",
    "plt.title('Bigram Word Frequency')\n",
    "plt.show()"
   ]
  },
  {
   "cell_type": "code",
   "execution_count": 33,
   "metadata": {
    "id": "B9qwxWjArrow"
   },
   "outputs": [],
   "source": [
    "# Write your code here to find the top 30 trigram frequency among the complaints in the cleaned datafram(df_clean). \n",
    "\n",
    "trigram_df = pd.DataFrame(extract_top_ngram(df_clean['complaint_clean'], 3, 30))\n",
    "trigram_df.rename(columns = {0:'Trigram', 1:'Count'}, inplace=True)"
   ]
  },
  {
   "cell_type": "code",
   "execution_count": 34,
   "metadata": {
    "colab": {
     "base_uri": "https://localhost:8080/",
     "height": 358
    },
    "id": "4ahMgnffr2fT",
    "outputId": "914478b4-ee79-4c83-95e5-c0c45e692ae2"
   },
   "outputs": [
    {
     "data": {
      "text/html": [
       "<div>\n",
       "<style scoped>\n",
       "    .dataframe tbody tr th:only-of-type {\n",
       "        vertical-align: middle;\n",
       "    }\n",
       "\n",
       "    .dataframe tbody tr th {\n",
       "        vertical-align: top;\n",
       "    }\n",
       "\n",
       "    .dataframe thead th {\n",
       "        text-align: right;\n",
       "    }\n",
       "</style>\n",
       "<table border=\"1\" class=\"dataframe\">\n",
       "  <thead>\n",
       "    <tr style=\"text-align: right;\">\n",
       "      <th></th>\n",
       "      <th>Trigram</th>\n",
       "      <th>Count</th>\n",
       "    </tr>\n",
       "  </thead>\n",
       "  <tbody>\n",
       "    <tr>\n",
       "      <th>0</th>\n",
       "      <td>chase credit card</td>\n",
       "      <td>1490</td>\n",
       "    </tr>\n",
       "    <tr>\n",
       "      <th>1</th>\n",
       "      <td>credit card account</td>\n",
       "      <td>1045</td>\n",
       "    </tr>\n",
       "    <tr>\n",
       "      <th>2</th>\n",
       "      <td>credit card company</td>\n",
       "      <td>865</td>\n",
       "    </tr>\n",
       "    <tr>\n",
       "      <th>3</th>\n",
       "      <td>credit card chase</td>\n",
       "      <td>671</td>\n",
       "    </tr>\n",
       "    <tr>\n",
       "      <th>4</th>\n",
       "      <td>credit card credit</td>\n",
       "      <td>638</td>\n",
       "    </tr>\n",
       "    <tr>\n",
       "      <th>5</th>\n",
       "      <td>card credit card</td>\n",
       "      <td>551</td>\n",
       "    </tr>\n",
       "    <tr>\n",
       "      <th>6</th>\n",
       "      <td>account credit card</td>\n",
       "      <td>453</td>\n",
       "    </tr>\n",
       "    <tr>\n",
       "      <th>7</th>\n",
       "      <td>inquiry credit report</td>\n",
       "      <td>392</td>\n",
       "    </tr>\n",
       "    <tr>\n",
       "      <th>8</th>\n",
       "      <td>charge credit card</td>\n",
       "      <td>380</td>\n",
       "    </tr>\n",
       "    <tr>\n",
       "      <th>9</th>\n",
       "      <td>credit report credit</td>\n",
       "      <td>362</td>\n",
       "    </tr>\n",
       "  </tbody>\n",
       "</table>\n",
       "</div>"
      ],
      "text/plain": [
       "                 Trigram  Count\n",
       "0      chase credit card   1490\n",
       "1    credit card account   1045\n",
       "2    credit card company    865\n",
       "3      credit card chase    671\n",
       "4     credit card credit    638\n",
       "5       card credit card    551\n",
       "6    account credit card    453\n",
       "7  inquiry credit report    392\n",
       "8     charge credit card    380\n",
       "9   credit report credit    362"
      ]
     },
     "execution_count": 34,
     "metadata": {},
     "output_type": "execute_result"
    }
   ],
   "source": [
    "# Print the top 10 words in the trigram frequency\n",
    "\n",
    "trigram_df.iloc[:10,:]"
   ]
  },
  {
   "cell_type": "code",
   "execution_count": 35,
   "metadata": {
    "colab": {
     "base_uri": "https://localhost:8080/",
     "height": 454
    },
    "id": "yrCJa8xtsKEr",
    "outputId": "731b0a98-cb95-4a3d-afd4-65b1205bd546"
   },
   "outputs": [
    {
     "data": {
      "image/png": "[encoded data removed]",
      "text/plain": [
       "<Figure size 720x432 with 1 Axes>"
      ]
     },
     "metadata": {
      "needs_background": "light"
     },
     "output_type": "display_data"
    }
   ],
   "source": [
    "# Visualise the trigrams using barplot\n",
    "\n",
    "plt.figure(figsize=(10,6))\n",
    "sns.barplot(x='Trigram', y='Count', data=trigram_df.iloc[:10,:])\n",
    "plt.xticks(rotation=30)\n",
    "plt.title('Trigram Word Frequency')\n",
    "plt.show()"
   ]
  },
  {
   "cell_type": "markdown",
   "metadata": {
    "id": "yUXzFji0JrF_"
   },
   "source": [
    "## The personal details of customer has been masked in the dataset with xxxx. Let's remove the masked text as this will be of no use for our analysis"
   ]
  },
  {
   "cell_type": "code",
   "execution_count": 36,
   "metadata": {
    "colab": {
     "base_uri": "https://localhost:8080/",
     "height": 204
    },
    "id": "wKda-a_IJrF_",
    "outputId": "b565b592-922c-4681-c29c-0d7f0a261512"
   },
   "outputs": [
    {
     "data": {
      "text/html": [
       "<div>\n",
       "<style scoped>\n",
       "    .dataframe tbody tr th:only-of-type {\n",
       "        vertical-align: middle;\n",
       "    }\n",
       "\n",
       "    .dataframe tbody tr th {\n",
       "        vertical-align: top;\n",
       "    }\n",
       "\n",
       "    .dataframe thead th {\n",
       "        text-align: right;\n",
       "    }\n",
       "</style>\n",
       "<table border=\"1\" class=\"dataframe\">\n",
       "  <thead>\n",
       "    <tr style=\"text-align: right;\">\n",
       "      <th></th>\n",
       "      <th>complaints</th>\n",
       "      <th>lemmatized_complaints</th>\n",
       "      <th>complaints_with_removed_pos</th>\n",
       "      <th>complaint_clean</th>\n",
       "    </tr>\n",
       "  </thead>\n",
       "  <tbody>\n",
       "    <tr>\n",
       "      <th>1</th>\n",
       "      <td>I upgraded my XXXX XXXX card in XX/XX/2018 and...</td>\n",
       "      <td>upgraded xxxx xxxx card told agent upgrade ann...</td>\n",
       "      <td>card agent anniversary date agent information ...</td>\n",
       "      <td>card agent anniversary date agent information ...</td>\n",
       "    </tr>\n",
       "    <tr>\n",
       "      <th>12</th>\n",
       "      <td>I opened an account with chase bank on XXXX an...</td>\n",
       "      <td>opened account chase bank xxxx used code xxxx ...</td>\n",
       "      <td>bonus account deposit bonus day xxxx deposit a...</td>\n",
       "      <td>bonus account deposit bonus day xxxx deposit a...</td>\n",
       "    </tr>\n",
       "    <tr>\n",
       "      <th>15</th>\n",
       "      <td>I opened the saving account for the {$25.00} b...</td>\n",
       "      <td>opened saving account bonus supposed received ...</td>\n",
       "      <td>account bonus bonus auto transfer checking sav...</td>\n",
       "      <td>account bonus bonus auto transfer checking sav...</td>\n",
       "    </tr>\n",
       "    <tr>\n",
       "      <th>20</th>\n",
       "      <td>JP Morgan Chase Bank, please answer the follow...</td>\n",
       "      <td>jp morgan chase bank please answer following q...</td>\n",
       "      <td>question information reason information routin...</td>\n",
       "      <td>question information reason information routin...</td>\n",
       "    </tr>\n",
       "    <tr>\n",
       "      <th>24</th>\n",
       "      <td>I made a purchase of {$260.00} on XX/XX/XXXX. ...</td>\n",
       "      <td>made purchase xxxxxxxx made payment xxxxxxxx x...</td>\n",
       "      <td>purchase xxxxxxxx payment closing date xxxxxxx...</td>\n",
       "      <td>purchase xxxxxxxx payment closing date xxxxxxx...</td>\n",
       "    </tr>\n",
       "  </tbody>\n",
       "</table>\n",
       "</div>"
      ],
      "text/plain": [
       "                                           complaints  ...                                    complaint_clean\n",
       "1   I upgraded my XXXX XXXX card in XX/XX/2018 and...  ...  card agent anniversary date agent information ...\n",
       "12  I opened an account with chase bank on XXXX an...  ...  bonus account deposit bonus day xxxx deposit a...\n",
       "15  I opened the saving account for the {$25.00} b...  ...  account bonus bonus auto transfer checking sav...\n",
       "20  JP Morgan Chase Bank, please answer the follow...  ...  question information reason information routin...\n",
       "24  I made a purchase of {$260.00} on XX/XX/XXXX. ...  ...  purchase xxxxxxxx payment closing date xxxxxxx...\n",
       "\n",
       "[5 rows x 4 columns]"
      ]
     },
     "execution_count": 36,
     "metadata": {},
     "output_type": "execute_result"
    }
   ],
   "source": [
    "# Lets first check the records which have XXXX in it.\n",
    "\n",
    "df_clean[df_clean['complaint_clean'].str.contains('xxxx')].head(5)"
   ]
  },
  {
   "cell_type": "code",
   "execution_count": 37,
   "metadata": {
    "id": "Y9Scz085d4-e"
   },
   "outputs": [],
   "source": [
    "# Remove XXXX\n",
    "\n",
    "df_clean['complaint_clean'] = df_clean['complaint_clean'].str.replace('xxxx','')"
   ]
  },
  {
   "cell_type": "code",
   "execution_count": 38,
   "metadata": {
    "colab": {
     "base_uri": "https://localhost:8080/",
     "height": 204
    },
    "id": "9UIFk8fQJrF_",
    "outputId": "39f470fc-5ff9-497e-fb83-49f3c249e3d3"
   },
   "outputs": [
    {
     "data": {
      "text/html": [
       "<div>\n",
       "<style scoped>\n",
       "    .dataframe tbody tr th:only-of-type {\n",
       "        vertical-align: middle;\n",
       "    }\n",
       "\n",
       "    .dataframe tbody tr th {\n",
       "        vertical-align: top;\n",
       "    }\n",
       "\n",
       "    .dataframe thead th {\n",
       "        text-align: right;\n",
       "    }\n",
       "</style>\n",
       "<table border=\"1\" class=\"dataframe\">\n",
       "  <thead>\n",
       "    <tr style=\"text-align: right;\">\n",
       "      <th></th>\n",
       "      <th>complaints</th>\n",
       "      <th>lemmatized_complaints</th>\n",
       "      <th>complaints_with_removed_pos</th>\n",
       "      <th>complaint_clean</th>\n",
       "    </tr>\n",
       "  </thead>\n",
       "  <tbody>\n",
       "    <tr>\n",
       "      <th>0</th>\n",
       "      <td>Good morning my name is XXXX XXXX and I apprec...</td>\n",
       "      <td>good morning name xxxx xxxx appreciate could h...</td>\n",
       "      <td>morning name chase debt verification statement...</td>\n",
       "      <td>morning name chase debt verification statement...</td>\n",
       "    </tr>\n",
       "    <tr>\n",
       "      <th>1</th>\n",
       "      <td>I upgraded my XXXX XXXX card in XX/XX/2018 and...</td>\n",
       "      <td>upgraded xxxx xxxx card told agent upgrade ann...</td>\n",
       "      <td>card agent anniversary date agent information ...</td>\n",
       "      <td>card agent anniversary date agent information ...</td>\n",
       "    </tr>\n",
       "    <tr>\n",
       "      <th>2</th>\n",
       "      <td>Chase Card was reported on XX/XX/2019. However...</td>\n",
       "      <td>chase card reported however fraudulent applica...</td>\n",
       "      <td>card application identity consent service cred...</td>\n",
       "      <td>card application identity consent service cred...</td>\n",
       "    </tr>\n",
       "    <tr>\n",
       "      <th>3</th>\n",
       "      <td>On XX/XX/2018, while trying to book a XXXX  XX...</td>\n",
       "      <td>trying book xxxx xxxx ticket came across offer...</td>\n",
       "      <td>ticket offer ticket reward card information of...</td>\n",
       "      <td>ticket offer ticket reward card information of...</td>\n",
       "    </tr>\n",
       "    <tr>\n",
       "      <th>4</th>\n",
       "      <td>my grand son give me check for {$1600.00} i de...</td>\n",
       "      <td>grand son give check deposit chase account fun...</td>\n",
       "      <td>son check account money son money pay son time...</td>\n",
       "      <td>son check account money son money pay son time...</td>\n",
       "    </tr>\n",
       "  </tbody>\n",
       "</table>\n",
       "</div>"
      ],
      "text/plain": [
       "                                          complaints  ...                                    complaint_clean\n",
       "0  Good morning my name is XXXX XXXX and I apprec...  ...  morning name chase debt verification statement...\n",
       "1  I upgraded my XXXX XXXX card in XX/XX/2018 and...  ...  card agent anniversary date agent information ...\n",
       "2  Chase Card was reported on XX/XX/2019. However...  ...  card application identity consent service cred...\n",
       "3  On XX/XX/2018, while trying to book a XXXX  XX...  ...  ticket offer ticket reward card information of...\n",
       "4  my grand son give me check for {$1600.00} i de...  ...  son check account money son money pay son time...\n",
       "\n",
       "[5 rows x 4 columns]"
      ]
     },
     "execution_count": 38,
     "metadata": {},
     "output_type": "execute_result"
    }
   ],
   "source": [
    "# All masked texts has been removed\n",
    "\n",
    "df_clean.head(5)"
   ]
  },
  {
   "cell_type": "markdown",
   "metadata": {
    "id": "k-I0k0QtJrGA"
   },
   "source": [
    "## Feature Extraction\n",
    "Convert the raw texts to a matrix of TF-IDF features\n",
    "\n",
    "**max_df** is used for removing terms that appear too frequently, also known as \"corpus-specific stop words\"\n",
    "max_df = 0.95 means \"ignore terms that appear in more than 95% of the complaints\"\n",
    "\n",
    "**min_df** is used for removing terms that appear too infrequently\n",
    "min_df = 2 means \"ignore terms that appear in less than 2 complaints\""
   ]
  },
  {
   "cell_type": "code",
   "execution_count": 39,
   "metadata": {
    "id": "Y8fGwaCPJrGA"
   },
   "outputs": [],
   "source": [
    "# Write your code here to initialise the TfidfVectorizer \n",
    "\n",
    "tfidf_vect = TfidfVectorizer(stop_words='english', max_df=0.95, min_df=2)\n"
   ]
  },
  {
   "cell_type": "markdown",
   "metadata": {
    "id": "yYzD85nTJrGA"
   },
   "source": [
    "#### Create a document term matrix using fit_transform\n",
    "\n",
    "The contents of a document term matrix are tuples of (complaint_id,token_id) tf-idf score:\n",
    "The tuples that are not there have a tf-idf score of 0"
   ]
  },
  {
   "cell_type": "code",
   "execution_count": 40,
   "metadata": {
    "colab": {
     "base_uri": "https://localhost:8080/"
    },
    "id": "ffzdDpp_JrGB",
    "outputId": "cf26ef3f-9274-4ec7-f8fb-e6594b47c681"
   },
   "outputs": [
    {
     "data": {
      "text/plain": [
       "(21072, 5903)"
      ]
     },
     "execution_count": 40,
     "metadata": {},
     "output_type": "execute_result"
    }
   ],
   "source": [
    "# Write your code here to create the Document Term Matrix by transforming the complaints column present in df_clean.\n",
    "\n",
    "doc_term_matrix= tfidf_vect.fit_transform(df_clean['complaint_clean'])\n",
    "doc_term_matrix.shape"
   ]
  },
  {
   "cell_type": "markdown",
   "metadata": {
    "id": "7Q9lwvNEJrGB"
   },
   "source": [
    "## Topic Modelling using NMF\n",
    "\n",
    "Non-Negative Matrix Factorization (NMF) is an unsupervised technique so there are no labeling of topics that the model will be trained on. The way it works is that, NMF decomposes (or factorizes) high-dimensional vectors into a lower-dimensional representation. These lower-dimensional vectors are non-negative which also means their coefficients are non-negative.\n",
    "\n",
    "In this task you have to perform the following:\n",
    "\n",
    "* Find the best number of clusters \n",
    "* Apply the best number to create word clusters\n",
    "* Inspect & validate the correction of each cluster wrt the complaints \n",
    "* Correct the labels if needed \n",
    "* Map the clusters to topics/cluster names"
   ]
  },
  {
   "cell_type": "code",
   "execution_count": 41,
   "metadata": {
    "id": "amLT4omWJrGB"
   },
   "outputs": [],
   "source": [
    "# Import vectorizers and NMF model\n",
    "\n",
    "from sklearn.decomposition import NMF\n",
    "from sklearn.feature_extraction.text import CountVectorizer, TfidfVectorizer"
   ]
  },
  {
   "cell_type": "markdown",
   "metadata": {
    "id": "0wYR1xUTJrGD"
   },
   "source": [
    "## Manual Topic Modeling\n",
    "You need to do take the trial & error approach to find the best num of topics for your NMF model.\n",
    "\n",
    "The only parameter that is required is the number of components i.e. the number of topics we want. This is the most crucial step in the whole topic modeling process and will greatly affect how good your final topics are."
   ]
  },
  {
   "cell_type": "code",
   "execution_count": 42,
   "metadata": {
    "id": "sgd2A6bhJrGD"
   },
   "outputs": [],
   "source": [
    "# Load your nmf_model with the n_components i.e 5\n",
    "num_topics = 5\n",
    "\n",
    "# keep the random_state =40\n",
    "nmf_model = NMF(n_components = 5, random_state = 40)"
   ]
  },
  {
   "cell_type": "code",
   "execution_count": 43,
   "metadata": {
    "id": "XuLcOwcrp6f6"
   },
   "outputs": [],
   "source": [
    "# Extract W(doc X topics) and H(topics X terms) matrix\n",
    "\n",
    "W = nmf_model.fit_transform(doc_term_matrix)  # Document-topic matrix\n",
    "H = nmf_model.components_  "
   ]
  },
  {
   "cell_type": "code",
   "execution_count": 44,
   "metadata": {
    "colab": {
     "base_uri": "https://localhost:8080/",
     "height": 204
    },
    "id": "XFVs00zSqCQ7",
    "outputId": "d12d5424-7b8b-4e2f-a195-c8af5f6cafab"
   },
   "outputs": [
    {
     "data": {
      "text/html": [
       "<div>\n",
       "<style scoped>\n",
       "    .dataframe tbody tr th:only-of-type {\n",
       "        vertical-align: middle;\n",
       "    }\n",
       "\n",
       "    .dataframe tbody tr th {\n",
       "        vertical-align: top;\n",
       "    }\n",
       "\n",
       "    .dataframe thead th {\n",
       "        text-align: right;\n",
       "    }\n",
       "</style>\n",
       "<table border=\"1\" class=\"dataframe\">\n",
       "  <thead>\n",
       "    <tr style=\"text-align: right;\">\n",
       "      <th></th>\n",
       "      <th>Word 1</th>\n",
       "      <th>Word 2</th>\n",
       "      <th>Word 3</th>\n",
       "      <th>Word 4</th>\n",
       "      <th>Word 5</th>\n",
       "      <th>Word 6</th>\n",
       "      <th>Word 7</th>\n",
       "      <th>Word 8</th>\n",
       "      <th>Word 9</th>\n",
       "      <th>Word 10</th>\n",
       "      <th>Word 11</th>\n",
       "      <th>Word 12</th>\n",
       "      <th>Word 13</th>\n",
       "      <th>Word 14</th>\n",
       "      <th>Word 15</th>\n",
       "    </tr>\n",
       "  </thead>\n",
       "  <tbody>\n",
       "    <tr>\n",
       "      <th>Topic 1</th>\n",
       "      <td>account</td>\n",
       "      <td>check</td>\n",
       "      <td>money</td>\n",
       "      <td>fund</td>\n",
       "      <td>bank</td>\n",
       "      <td>deposit</td>\n",
       "      <td>chase</td>\n",
       "      <td>branch</td>\n",
       "      <td>day</td>\n",
       "      <td>number</td>\n",
       "      <td>business</td>\n",
       "      <td>transfer</td>\n",
       "      <td>customer</td>\n",
       "      <td>transaction</td>\n",
       "      <td>time</td>\n",
       "    </tr>\n",
       "    <tr>\n",
       "      <th>Topic 2</th>\n",
       "      <td>credit</td>\n",
       "      <td>card</td>\n",
       "      <td>report</td>\n",
       "      <td>inquiry</td>\n",
       "      <td>chase</td>\n",
       "      <td>account</td>\n",
       "      <td>score</td>\n",
       "      <td>company</td>\n",
       "      <td>limit</td>\n",
       "      <td>application</td>\n",
       "      <td>debt</td>\n",
       "      <td>year</td>\n",
       "      <td>balance</td>\n",
       "      <td>information</td>\n",
       "      <td>letter</td>\n",
       "    </tr>\n",
       "    <tr>\n",
       "      <th>Topic 3</th>\n",
       "      <td>payment</td>\n",
       "      <td>balance</td>\n",
       "      <td>month</td>\n",
       "      <td>fee</td>\n",
       "      <td>statement</td>\n",
       "      <td>pay</td>\n",
       "      <td>date</td>\n",
       "      <td>time</td>\n",
       "      <td>day</td>\n",
       "      <td>chase</td>\n",
       "      <td>auto</td>\n",
       "      <td>error</td>\n",
       "      <td>credit</td>\n",
       "      <td>car</td>\n",
       "      <td>year</td>\n",
       "    </tr>\n",
       "    <tr>\n",
       "      <th>Topic 4</th>\n",
       "      <td>charge</td>\n",
       "      <td>card</td>\n",
       "      <td>transaction</td>\n",
       "      <td>chase</td>\n",
       "      <td>dispute</td>\n",
       "      <td>merchant</td>\n",
       "      <td>fee</td>\n",
       "      <td>claim</td>\n",
       "      <td>fraud</td>\n",
       "      <td>purchase</td>\n",
       "      <td>service</td>\n",
       "      <td>email</td>\n",
       "      <td>time</td>\n",
       "      <td>refund</td>\n",
       "      <td>phone</td>\n",
       "    </tr>\n",
       "    <tr>\n",
       "      <th>Topic 5</th>\n",
       "      <td>loan</td>\n",
       "      <td>mortgage</td>\n",
       "      <td>modification</td>\n",
       "      <td>chase</td>\n",
       "      <td>home</td>\n",
       "      <td>year</td>\n",
       "      <td>property</td>\n",
       "      <td>rate</td>\n",
       "      <td>time</td>\n",
       "      <td>document</td>\n",
       "      <td>letter</td>\n",
       "      <td>sale</td>\n",
       "      <td>debt</td>\n",
       "      <td>information</td>\n",
       "      <td>foreclosure</td>\n",
       "    </tr>\n",
       "  </tbody>\n",
       "</table>\n",
       "</div>"
      ],
      "text/plain": [
       "          Word 1    Word 2        Word 3  ...   Word 13      Word 14      Word 15\n",
       "Topic 1  account     check         money  ...  customer  transaction         time\n",
       "Topic 2   credit      card        report  ...   balance  information       letter\n",
       "Topic 3  payment   balance         month  ...    credit          car         year\n",
       "Topic 4   charge      card   transaction  ...      time       refund        phone\n",
       "Topic 5     loan  mortgage  modification  ...      debt  information  foreclosure\n",
       "\n",
       "[5 rows x 15 columns]"
      ]
     },
     "execution_count": 44,
     "metadata": {},
     "output_type": "execute_result"
    }
   ],
   "source": [
    "# Print the Top15 words for each of the topics\n",
    "\n",
    "words = np.array(tfidf_vect.get_feature_names())\n",
    "topic_words = pd.DataFrame(np.zeros((num_topics, 15)), index=[f'Topic {i + 1}' for i in range(num_topics)],\n",
    "                           columns=[f'Word {i + 1}' for i in range(15)]).astype(str)\n",
    "for i in range(num_topics):\n",
    "    ix = H[i].argsort()[::-1][:15]\n",
    "    topic_words.iloc[i] = words[ix]\n",
    "\n",
    "topic_words"
   ]
  },
  {
   "cell_type": "code",
   "execution_count": 45,
   "metadata": {
    "colab": {
     "base_uri": "https://localhost:8080/"
    },
    "id": "HqCBaG_Xyfhc",
    "outputId": "22ef93a7-7d5e-4840-e60f-06cc8ca13025"
   },
   "outputs": [
    {
     "name": "stdout",
     "output_type": "stream",
     "text": [
      "[0.00735585 0.01092199 0.00750994 0.00833873 0.03040528]\n",
      "4\n"
     ]
    }
   ],
   "source": [
    "# Lets check the probability of topics for a particular document and corresponding topic with highest probability\n",
    "\n",
    "print(W[0])\n",
    "print(W[0].argmax())"
   ]
  },
  {
   "cell_type": "code",
   "execution_count": 47,
   "metadata": {
    "colab": {
     "base_uri": "https://localhost:8080/"
    },
    "id": "MOYra4zTj0QP",
    "outputId": "bc6faab7-65cb-409d-cda6-0fc0597e1887"
   },
   "outputs": [
    {
     "name": "stdout",
     "output_type": "stream",
     "text": [
      "[4 3 1 ... 3 2 2]\n"
     ]
    }
   ],
   "source": [
    "# Create the best topic for each complaint in terms of integer value 0,1,2,3 & 4\n",
    "\n",
    "print(W.argmax(axis=1))"
   ]
  },
  {
   "cell_type": "code",
   "execution_count": 48,
   "metadata": {
    "colab": {
     "base_uri": "https://localhost:8080/"
    },
    "id": "f8YWv4Gqg3b-",
    "outputId": "908ef111-881c-4ee1-81ba-0243bb33d387"
   },
   "outputs": [
    {
     "data": {
      "text/plain": [
       "(21072, 5)"
      ]
     },
     "execution_count": 48,
     "metadata": {},
     "output_type": "execute_result"
    }
   ],
   "source": [
    "# Assign the best topic to each of the cmplaints in Topic Column\n",
    "\n",
    "df_clean['Topic_ID'] = W.argmax(axis=1)\n",
    "df_clean.shape"
   ]
  },
  {
   "cell_type": "code",
   "execution_count": 49,
   "metadata": {
    "colab": {
     "base_uri": "https://localhost:8080/",
     "height": 204
    },
    "id": "uF8aAGVAkXFM",
    "outputId": "89e7b285-be25-4555-dfb1-95455e9b364d"
   },
   "outputs": [
    {
     "data": {
      "text/html": [
       "<div>\n",
       "<style scoped>\n",
       "    .dataframe tbody tr th:only-of-type {\n",
       "        vertical-align: middle;\n",
       "    }\n",
       "\n",
       "    .dataframe tbody tr th {\n",
       "        vertical-align: top;\n",
       "    }\n",
       "\n",
       "    .dataframe thead th {\n",
       "        text-align: right;\n",
       "    }\n",
       "</style>\n",
       "<table border=\"1\" class=\"dataframe\">\n",
       "  <thead>\n",
       "    <tr style=\"text-align: right;\">\n",
       "      <th></th>\n",
       "      <th>complaints</th>\n",
       "      <th>lemmatized_complaints</th>\n",
       "      <th>complaints_with_removed_pos</th>\n",
       "      <th>complaint_clean</th>\n",
       "      <th>Topic_ID</th>\n",
       "    </tr>\n",
       "  </thead>\n",
       "  <tbody>\n",
       "    <tr>\n",
       "      <th>0</th>\n",
       "      <td>Good morning my name is XXXX XXXX and I apprec...</td>\n",
       "      <td>good morning name xxxx xxxx appreciate could h...</td>\n",
       "      <td>morning name chase debt verification statement...</td>\n",
       "      <td>morning name chase debt verification statement...</td>\n",
       "      <td>4</td>\n",
       "    </tr>\n",
       "    <tr>\n",
       "      <th>1</th>\n",
       "      <td>I upgraded my XXXX XXXX card in XX/XX/2018 and...</td>\n",
       "      <td>upgraded xxxx xxxx card told agent upgrade ann...</td>\n",
       "      <td>card agent anniversary date agent information ...</td>\n",
       "      <td>card agent anniversary date agent information ...</td>\n",
       "      <td>3</td>\n",
       "    </tr>\n",
       "    <tr>\n",
       "      <th>2</th>\n",
       "      <td>Chase Card was reported on XX/XX/2019. However...</td>\n",
       "      <td>chase card reported however fraudulent applica...</td>\n",
       "      <td>card application identity consent service cred...</td>\n",
       "      <td>card application identity consent service cred...</td>\n",
       "      <td>1</td>\n",
       "    </tr>\n",
       "    <tr>\n",
       "      <th>3</th>\n",
       "      <td>On XX/XX/2018, while trying to book a XXXX  XX...</td>\n",
       "      <td>trying book xxxx xxxx ticket came across offer...</td>\n",
       "      <td>ticket offer ticket reward card information of...</td>\n",
       "      <td>ticket offer ticket reward card information of...</td>\n",
       "      <td>1</td>\n",
       "    </tr>\n",
       "    <tr>\n",
       "      <th>4</th>\n",
       "      <td>my grand son give me check for {$1600.00} i de...</td>\n",
       "      <td>grand son give check deposit chase account fun...</td>\n",
       "      <td>son check account money son money pay son time...</td>\n",
       "      <td>son check account money son money pay son time...</td>\n",
       "      <td>0</td>\n",
       "    </tr>\n",
       "  </tbody>\n",
       "</table>\n",
       "</div>"
      ],
      "text/plain": [
       "                                          complaints  ... Topic_ID\n",
       "0  Good morning my name is XXXX XXXX and I apprec...  ...        4\n",
       "1  I upgraded my XXXX XXXX card in XX/XX/2018 and...  ...        3\n",
       "2  Chase Card was reported on XX/XX/2019. However...  ...        1\n",
       "3  On XX/XX/2018, while trying to book a XXXX  XX...  ...        1\n",
       "4  my grand son give me check for {$1600.00} i de...  ...        0\n",
       "\n",
       "[5 rows x 5 columns]"
      ]
     },
     "execution_count": 49,
     "metadata": {},
     "output_type": "execute_result"
    }
   ],
   "source": [
    "# Check the head of the dataframe with new Topic ID column\n",
    "\n",
    "df_clean.head()"
   ]
  },
  {
   "cell_type": "code",
   "execution_count": 50,
   "metadata": {
    "colab": {
     "base_uri": "https://localhost:8080/",
     "height": 821
    },
    "id": "aQKpufSPJrGG",
    "outputId": "1a6711f0-fa9a-47b9-9cc4-005cd3cb8d72",
    "scrolled": true
   },
   "outputs": [
    {
     "data": {
      "text/html": [
       "<div>\n",
       "<style scoped>\n",
       "    .dataframe tbody tr th:only-of-type {\n",
       "        vertical-align: middle;\n",
       "    }\n",
       "\n",
       "    .dataframe tbody tr th {\n",
       "        vertical-align: top;\n",
       "    }\n",
       "\n",
       "    .dataframe thead th {\n",
       "        text-align: right;\n",
       "    }\n",
       "</style>\n",
       "<table border=\"1\" class=\"dataframe\">\n",
       "  <thead>\n",
       "    <tr style=\"text-align: right;\">\n",
       "      <th></th>\n",
       "      <th>complaints</th>\n",
       "      <th>lemmatized_complaints</th>\n",
       "      <th>complaints_with_removed_pos</th>\n",
       "      <th>complaint_clean</th>\n",
       "      <th>Topic_ID</th>\n",
       "    </tr>\n",
       "  </thead>\n",
       "  <tbody>\n",
       "    <tr>\n",
       "      <th>12</th>\n",
       "      <td>I opened an account with chase bank on XXXX an...</td>\n",
       "      <td>opened account chase bank xxxx used code xxxx ...</td>\n",
       "      <td>bonus account deposit bonus day xxxx deposit a...</td>\n",
       "      <td>bonus account deposit bonus day  deposit accou...</td>\n",
       "      <td>0</td>\n",
       "    </tr>\n",
       "    <tr>\n",
       "      <th>4</th>\n",
       "      <td>my grand son give me check for {$1600.00} i de...</td>\n",
       "      <td>grand son give check deposit chase account fun...</td>\n",
       "      <td>son check account money son money pay son time...</td>\n",
       "      <td>son check account money son money pay son time...</td>\n",
       "      <td>0</td>\n",
       "    </tr>\n",
       "    <tr>\n",
       "      <th>6</th>\n",
       "      <td>With out notice J.P. Morgan Chase restricted m...</td>\n",
       "      <td>notice jp morgan chase restricted account debi...</td>\n",
       "      <td>card branch customer service representative ac...</td>\n",
       "      <td>card branch customer service representative ac...</td>\n",
       "      <td>0</td>\n",
       "    </tr>\n",
       "    <tr>\n",
       "      <th>15</th>\n",
       "      <td>I opened the saving account for the {$25.00} b...</td>\n",
       "      <td>opened saving account bonus supposed received ...</td>\n",
       "      <td>account bonus bonus auto transfer checking sav...</td>\n",
       "      <td>account bonus bonus auto transfer checking sav...</td>\n",
       "      <td>0</td>\n",
       "    </tr>\n",
       "    <tr>\n",
       "      <th>10</th>\n",
       "      <td>mishandling of this account by Chase auto and ...</td>\n",
       "      <td>mishandling account chase auto xxxx</td>\n",
       "      <td></td>\n",
       "      <td></td>\n",
       "      <td>0</td>\n",
       "    </tr>\n",
       "    <tr>\n",
       "      <th>2</th>\n",
       "      <td>Chase Card was reported on XX/XX/2019. However...</td>\n",
       "      <td>chase card reported however fraudulent applica...</td>\n",
       "      <td>card application identity consent service cred...</td>\n",
       "      <td>card application identity consent service cred...</td>\n",
       "      <td>1</td>\n",
       "    </tr>\n",
       "    <tr>\n",
       "      <th>3</th>\n",
       "      <td>On XX/XX/2018, while trying to book a XXXX  XX...</td>\n",
       "      <td>trying book xxxx xxxx ticket came across offer...</td>\n",
       "      <td>ticket offer ticket reward card information of...</td>\n",
       "      <td>ticket offer ticket reward card information of...</td>\n",
       "      <td>1</td>\n",
       "    </tr>\n",
       "    <tr>\n",
       "      <th>5</th>\n",
       "      <td>Can you please remove inquiry</td>\n",
       "      <td>please remove inquiry</td>\n",
       "      <td>inquiry</td>\n",
       "      <td>inquiry</td>\n",
       "      <td>1</td>\n",
       "    </tr>\n",
       "    <tr>\n",
       "      <th>9</th>\n",
       "      <td>I have a Chase credit card which is incorrectl...</td>\n",
       "      <td>chase credit card incorrectly reporting data c...</td>\n",
       "      <td>credit card data credit report company issue</td>\n",
       "      <td>credit card data credit report company issue</td>\n",
       "      <td>1</td>\n",
       "    </tr>\n",
       "    <tr>\n",
       "      <th>11</th>\n",
       "      <td>I have reached out to XXXX several times in at...</td>\n",
       "      <td>reached xxxx several time attempt fraudulent i...</td>\n",
       "      <td>time inquiry need call contact creditor inquir...</td>\n",
       "      <td>time inquiry need call contact creditor inquir...</td>\n",
       "      <td>1</td>\n",
       "    </tr>\n",
       "    <tr>\n",
       "      <th>33</th>\n",
       "      <td>I recently called to ask Chase bank why they r...</td>\n",
       "      <td>recently called ask chase bank reported credit...</td>\n",
       "      <td>day payment info bill balance bill amount day ...</td>\n",
       "      <td>day payment info bill balance bill amount day ...</td>\n",
       "      <td>2</td>\n",
       "    </tr>\n",
       "    <tr>\n",
       "      <th>24</th>\n",
       "      <td>I made a purchase of {$260.00} on XX/XX/XXXX. ...</td>\n",
       "      <td>made purchase xxxxxxxx made payment xxxxxxxx x...</td>\n",
       "      <td>purchase xxxxxxxx payment closing date xxxxxxx...</td>\n",
       "      <td>purchase  payment closing date  statement stat...</td>\n",
       "      <td>2</td>\n",
       "    </tr>\n",
       "    <tr>\n",
       "      <th>57</th>\n",
       "      <td>Action Taken By The Company Between the dates ...</td>\n",
       "      <td>action taken company date xxxxxxxx xxxxxxxx in...</td>\n",
       "      <td>action company date xxxxxxxx group chase claim...</td>\n",
       "      <td>action company date  group chase claim claim p...</td>\n",
       "      <td>2</td>\n",
       "    </tr>\n",
       "    <tr>\n",
       "      <th>7</th>\n",
       "      <td>During the summer months, I experience a decli...</td>\n",
       "      <td>summer month experience decline income due emp...</td>\n",
       "      <td>summer month experience decline income employm...</td>\n",
       "      <td>summer month experience decline income employm...</td>\n",
       "      <td>2</td>\n",
       "    </tr>\n",
       "    <tr>\n",
       "      <th>34</th>\n",
       "      <td>UNKNOWN INQUIRE REPORTED ON MY CREDIT BUREAU S...</td>\n",
       "      <td>unknown inquire reported credit bureau xxxx xx...</td>\n",
       "      <td>auto</td>\n",
       "      <td>auto</td>\n",
       "      <td>2</td>\n",
       "    </tr>\n",
       "    <tr>\n",
       "      <th>13</th>\n",
       "      <td>To whom it may concern, Chase bank charged wro...</td>\n",
       "      <td>may concern chase bank charged wrongly overdra...</td>\n",
       "      <td>concern overdraft fee alert balance unsuficent...</td>\n",
       "      <td>concern overdraft fee alert balance unsuficent...</td>\n",
       "      <td>3</td>\n",
       "    </tr>\n",
       "    <tr>\n",
       "      <th>14</th>\n",
       "      <td>My chase amazon card was declined for a cateri...</td>\n",
       "      <td>chase amazon card declined catering order plac...</td>\n",
       "      <td>catering order brother funeral amount chase no...</td>\n",
       "      <td>catering order brother funeral amount chase no...</td>\n",
       "      <td>3</td>\n",
       "    </tr>\n",
       "    <tr>\n",
       "      <th>8</th>\n",
       "      <td>On XXXX XX/XX/2019, I made a {$300.00} payment...</td>\n",
       "      <td>xxxx made payment online retailer using chase ...</td>\n",
       "      <td>payment retailer chase pay scam website confir...</td>\n",
       "      <td>payment retailer chase pay scam website confir...</td>\n",
       "      <td>3</td>\n",
       "    </tr>\n",
       "    <tr>\n",
       "      <th>16</th>\n",
       "      <td>XXXX XXXX a sofa, love seat, table and chairs ...</td>\n",
       "      <td>xxxx xxxx sofa love seat table chair never del...</td>\n",
       "      <td>seat table chair debit card bank claim furnitu...</td>\n",
       "      <td>seat table chair debit card bank claim furnitu...</td>\n",
       "      <td>3</td>\n",
       "    </tr>\n",
       "    <tr>\n",
       "      <th>1</th>\n",
       "      <td>I upgraded my XXXX XXXX card in XX/XX/2018 and...</td>\n",
       "      <td>upgraded xxxx xxxx card told agent upgrade ann...</td>\n",
       "      <td>card agent anniversary date agent information ...</td>\n",
       "      <td>card agent anniversary date agent information ...</td>\n",
       "      <td>3</td>\n",
       "    </tr>\n",
       "    <tr>\n",
       "      <th>18</th>\n",
       "      <td>Chase sent me an email today with the innocuou...</td>\n",
       "      <td>chase sent email today innocuous title importa...</td>\n",
       "      <td>email today title information change chase acc...</td>\n",
       "      <td>email today title information change chase acc...</td>\n",
       "      <td>4</td>\n",
       "    </tr>\n",
       "    <tr>\n",
       "      <th>23</th>\n",
       "      <td>I have been trying to do a loan modification w...</td>\n",
       "      <td>trying loan modification chase give runaround ...</td>\n",
       "      <td>loan modification chase mo payment aens</td>\n",
       "      <td>loan modification chase mo payment aens</td>\n",
       "      <td>4</td>\n",
       "    </tr>\n",
       "    <tr>\n",
       "      <th>30</th>\n",
       "      <td>I have wired through one of Chase branches in ...</td>\n",
       "      <td>wired one chase branch xxxx xxxx exact reinsta...</td>\n",
       "      <td>branch reinstatement amount order foreclosure ...</td>\n",
       "      <td>branch reinstatement amount order foreclosure ...</td>\n",
       "      <td>4</td>\n",
       "    </tr>\n",
       "    <tr>\n",
       "      <th>32</th>\n",
       "      <td>I bought a new XXXX XXXX on XX/XX/XXXX from XX...</td>\n",
       "      <td>bought new xxxx xxxx xxxxxxxx xxxx xxxx xxxx x...</td>\n",
       "      <td>title chase time resolution time release state...</td>\n",
       "      <td>title chase time resolution time release state...</td>\n",
       "      <td>4</td>\n",
       "    </tr>\n",
       "    <tr>\n",
       "      <th>0</th>\n",
       "      <td>Good morning my name is XXXX XXXX and I apprec...</td>\n",
       "      <td>good morning name xxxx xxxx appreciate could h...</td>\n",
       "      <td>morning name chase debt verification statement...</td>\n",
       "      <td>morning name chase debt verification statement...</td>\n",
       "      <td>4</td>\n",
       "    </tr>\n",
       "  </tbody>\n",
       "</table>\n",
       "</div>"
      ],
      "text/plain": [
       "                                           complaints  ... Topic_ID\n",
       "12  I opened an account with chase bank on XXXX an...  ...        0\n",
       "4   my grand son give me check for {$1600.00} i de...  ...        0\n",
       "6   With out notice J.P. Morgan Chase restricted m...  ...        0\n",
       "15  I opened the saving account for the {$25.00} b...  ...        0\n",
       "10  mishandling of this account by Chase auto and ...  ...        0\n",
       "2   Chase Card was reported on XX/XX/2019. However...  ...        1\n",
       "3   On XX/XX/2018, while trying to book a XXXX  XX...  ...        1\n",
       "5                       Can you please remove inquiry  ...        1\n",
       "9   I have a Chase credit card which is incorrectl...  ...        1\n",
       "11  I have reached out to XXXX several times in at...  ...        1\n",
       "33  I recently called to ask Chase bank why they r...  ...        2\n",
       "24  I made a purchase of {$260.00} on XX/XX/XXXX. ...  ...        2\n",
       "57  Action Taken By The Company Between the dates ...  ...        2\n",
       "7   During the summer months, I experience a decli...  ...        2\n",
       "34  UNKNOWN INQUIRE REPORTED ON MY CREDIT BUREAU S...  ...        2\n",
       "13  To whom it may concern, Chase bank charged wro...  ...        3\n",
       "14  My chase amazon card was declined for a cateri...  ...        3\n",
       "8   On XXXX XX/XX/2019, I made a {$300.00} payment...  ...        3\n",
       "16  XXXX XXXX a sofa, love seat, table and chairs ...  ...        3\n",
       "1   I upgraded my XXXX XXXX card in XX/XX/2018 and...  ...        3\n",
       "18  Chase sent me an email today with the innocuou...  ...        4\n",
       "23  I have been trying to do a loan modification w...  ...        4\n",
       "30  I have wired through one of Chase branches in ...  ...        4\n",
       "32  I bought a new XXXX XXXX on XX/XX/XXXX from XX...  ...        4\n",
       "0   Good morning my name is XXXX XXXX and I apprec...  ...        4\n",
       "\n",
       "[25 rows x 5 columns]"
      ]
     },
     "execution_count": 50,
     "metadata": {},
     "output_type": "execute_result"
    }
   ],
   "source": [
    "# Print the first 5 Complaint for each of the Topics\n",
    "\n",
    "df_clean_top5 = df_clean.groupby('Topic_ID').head(5)\n",
    "df_clean_top5.sort_values('Topic_ID')"
   ]
  },
  {
   "cell_type": "markdown",
   "metadata": {
    "id": "piyLxzj6v07j"
   },
   "source": [
    "#### After evaluating the mapping, if the topics assigned are correct then assign these names to the relevant topic:\n",
    "* Bank Account services\n",
    "* Credit card or prepaid card\n",
    "* Theft/Dispute Reporting\n",
    "* Mortgage/Loan\n",
    "* Others"
   ]
  },
  {
   "cell_type": "code",
   "execution_count": 51,
   "metadata": {
    "colab": {
     "base_uri": "https://localhost:8080/",
     "height": 325
    },
    "id": "XKwCXzNfuKDB",
    "outputId": "314bdbb4-0c2f-4de2-e09d-c8dba667c2a4"
   },
   "outputs": [
    {
     "data": {
      "text/html": [
       "<div>\n",
       "<style scoped>\n",
       "    .dataframe tbody tr th:only-of-type {\n",
       "        vertical-align: middle;\n",
       "    }\n",
       "\n",
       "    .dataframe tbody tr th {\n",
       "        vertical-align: top;\n",
       "    }\n",
       "\n",
       "    .dataframe thead th {\n",
       "        text-align: right;\n",
       "    }\n",
       "</style>\n",
       "<table border=\"1\" class=\"dataframe\">\n",
       "  <thead>\n",
       "    <tr style=\"text-align: right;\">\n",
       "      <th></th>\n",
       "      <th>Word 1</th>\n",
       "      <th>Word 2</th>\n",
       "      <th>Word 3</th>\n",
       "      <th>Word 4</th>\n",
       "      <th>Word 5</th>\n",
       "      <th>Word 6</th>\n",
       "      <th>Word 7</th>\n",
       "      <th>Word 8</th>\n",
       "      <th>Word 9</th>\n",
       "      <th>Word 10</th>\n",
       "      <th>Word 11</th>\n",
       "      <th>Word 12</th>\n",
       "      <th>Word 13</th>\n",
       "      <th>Word 14</th>\n",
       "      <th>Word 15</th>\n",
       "      <th>Word 16</th>\n",
       "      <th>Word 17</th>\n",
       "      <th>Word 18</th>\n",
       "      <th>Word 19</th>\n",
       "      <th>Word 20</th>\n",
       "      <th>Word 21</th>\n",
       "      <th>Word 22</th>\n",
       "      <th>Word 23</th>\n",
       "      <th>Word 24</th>\n",
       "      <th>Word 25</th>\n",
       "    </tr>\n",
       "  </thead>\n",
       "  <tbody>\n",
       "    <tr>\n",
       "      <th>Topic 1</th>\n",
       "      <td>account</td>\n",
       "      <td>check</td>\n",
       "      <td>money</td>\n",
       "      <td>fund</td>\n",
       "      <td>bank</td>\n",
       "      <td>deposit</td>\n",
       "      <td>chase</td>\n",
       "      <td>branch</td>\n",
       "      <td>day</td>\n",
       "      <td>number</td>\n",
       "      <td>business</td>\n",
       "      <td>transfer</td>\n",
       "      <td>customer</td>\n",
       "      <td>transaction</td>\n",
       "      <td>time</td>\n",
       "      <td>reason</td>\n",
       "      <td>information</td>\n",
       "      <td>balance</td>\n",
       "      <td>phone</td>\n",
       "      <td>claim</td>\n",
       "      <td>fee</td>\n",
       "      <td>access</td>\n",
       "      <td>fraud</td>\n",
       "      <td>checking</td>\n",
       "      <td>person</td>\n",
       "    </tr>\n",
       "    <tr>\n",
       "      <th>Topic 2</th>\n",
       "      <td>credit</td>\n",
       "      <td>card</td>\n",
       "      <td>report</td>\n",
       "      <td>inquiry</td>\n",
       "      <td>chase</td>\n",
       "      <td>account</td>\n",
       "      <td>score</td>\n",
       "      <td>company</td>\n",
       "      <td>limit</td>\n",
       "      <td>application</td>\n",
       "      <td>debt</td>\n",
       "      <td>year</td>\n",
       "      <td>balance</td>\n",
       "      <td>information</td>\n",
       "      <td>letter</td>\n",
       "      <td>reporting</td>\n",
       "      <td>reason</td>\n",
       "      <td>identity</td>\n",
       "      <td>bureau</td>\n",
       "      <td>point</td>\n",
       "      <td>history</td>\n",
       "      <td>time</td>\n",
       "      <td>month</td>\n",
       "      <td>line</td>\n",
       "      <td>theft</td>\n",
       "    </tr>\n",
       "    <tr>\n",
       "      <th>Topic 3</th>\n",
       "      <td>payment</td>\n",
       "      <td>balance</td>\n",
       "      <td>month</td>\n",
       "      <td>fee</td>\n",
       "      <td>statement</td>\n",
       "      <td>pay</td>\n",
       "      <td>date</td>\n",
       "      <td>time</td>\n",
       "      <td>day</td>\n",
       "      <td>chase</td>\n",
       "      <td>auto</td>\n",
       "      <td>error</td>\n",
       "      <td>credit</td>\n",
       "      <td>car</td>\n",
       "      <td>year</td>\n",
       "      <td>account</td>\n",
       "      <td>history</td>\n",
       "      <td>plan</td>\n",
       "      <td>issue</td>\n",
       "      <td>record</td>\n",
       "      <td>option</td>\n",
       "      <td>customer</td>\n",
       "      <td>period</td>\n",
       "      <td>bank</td>\n",
       "      <td>lease</td>\n",
       "    </tr>\n",
       "    <tr>\n",
       "      <th>Topic 4</th>\n",
       "      <td>charge</td>\n",
       "      <td>card</td>\n",
       "      <td>transaction</td>\n",
       "      <td>chase</td>\n",
       "      <td>dispute</td>\n",
       "      <td>merchant</td>\n",
       "      <td>fee</td>\n",
       "      <td>claim</td>\n",
       "      <td>fraud</td>\n",
       "      <td>purchase</td>\n",
       "      <td>service</td>\n",
       "      <td>email</td>\n",
       "      <td>time</td>\n",
       "      <td>refund</td>\n",
       "      <td>phone</td>\n",
       "      <td>statement</td>\n",
       "      <td>company</td>\n",
       "      <td>customer</td>\n",
       "      <td>day</td>\n",
       "      <td>number</td>\n",
       "      <td>case</td>\n",
       "      <td>debit</td>\n",
       "      <td>item</td>\n",
       "      <td>letter</td>\n",
       "      <td>investigation</td>\n",
       "    </tr>\n",
       "    <tr>\n",
       "      <th>Topic 5</th>\n",
       "      <td>loan</td>\n",
       "      <td>mortgage</td>\n",
       "      <td>modification</td>\n",
       "      <td>chase</td>\n",
       "      <td>home</td>\n",
       "      <td>year</td>\n",
       "      <td>property</td>\n",
       "      <td>rate</td>\n",
       "      <td>time</td>\n",
       "      <td>document</td>\n",
       "      <td>letter</td>\n",
       "      <td>sale</td>\n",
       "      <td>debt</td>\n",
       "      <td>information</td>\n",
       "      <td>foreclosure</td>\n",
       "      <td>process</td>\n",
       "      <td>tax</td>\n",
       "      <td>month</td>\n",
       "      <td>application</td>\n",
       "      <td>income</td>\n",
       "      <td>company</td>\n",
       "      <td>request</td>\n",
       "      <td>complaint</td>\n",
       "      <td>attorney</td>\n",
       "      <td>insurance</td>\n",
       "    </tr>\n",
       "  </tbody>\n",
       "</table>\n",
       "</div>"
      ],
      "text/plain": [
       "          Word 1    Word 2        Word 3  ...    Word 23   Word 24        Word 25\n",
       "Topic 1  account     check         money  ...      fraud  checking         person\n",
       "Topic 2   credit      card        report  ...      month      line          theft\n",
       "Topic 3  payment   balance         month  ...     period      bank          lease\n",
       "Topic 4   charge      card   transaction  ...       item    letter  investigation\n",
       "Topic 5     loan  mortgage  modification  ...  complaint  attorney      insurance\n",
       "\n",
       "[5 rows x 25 columns]"
      ]
     },
     "execution_count": 51,
     "metadata": {},
     "output_type": "execute_result"
    }
   ],
   "source": [
    "# Lets print top 25 words for each of the topics to determine the possible Labels\n",
    "\n",
    "words = np.array(tfidf_vect.get_feature_names())\n",
    "topic_words = pd.DataFrame(np.zeros((num_topics, 25)), index=[f'Topic {i + 1}' for i in range(num_topics)],\n",
    "                           columns=[f'Word {i + 1}' for i in range(25)]).astype(str)\n",
    "for i in range(num_topics):\n",
    "    ix = H[i].argsort()[::-1][:25]\n",
    "    topic_words.iloc[i] = words[ix]\n",
    "\n",
    "topic_words"
   ]
  },
  {
   "cell_type": "markdown",
   "metadata": {
    "id": "YLL_L47Zwapq"
   },
   "source": [
    "**FINDINGS:**\n",
    "\n",
    "1. Topic 1 : We find frequent words like Account, Deposit, Branch,Customer,transaction,Transfer, time/day,manager etc. This is more relevant to general Account Services.Lets Label this topic as \"Bank Account services\".\n",
    "\n",
    "2. Topic 2:  We find frequent words like Credit, Card,Balance,,Score,Limit,Application,Letter,bureau,History etc. These are more related to Credit Card related services. Lets label this topic as \"Credit card or prepaid card\".\n",
    "\n",
    "3. Topic 3:  We find frequent words in this topic which are more kind of mixxed.So it is not very clear and easy to decide that the words in the topic are related to specific Banking service. SO lets Label this as \"Others\".\n",
    "\n",
    "4. Topic 4:  We find frequent words like dispute,claim,refund,investigation,Fraud,Case,Chase, These are more related Dispute/Fradu.SO lets Label this as \"Theft/Dispute Reporting\".\n",
    "\n",
    "5. Topic 5:  We find frequent words like mortgage , Loan,property,foreclosure,Tax,attorney. These are more related Mortgage and Loan. SO lets Label this as \"Mortgage/Loan\"\"\n"
   ]
  },
  {
   "cell_type": "code",
   "execution_count": 52,
   "metadata": {
    "id": "TWpwDG4RJrGG"
   },
   "outputs": [],
   "source": [
    "# Create the dictionary of Topic names and Topics\n",
    "\n",
    "Topic_names = {0:\"Bank Account services\",\n",
    "               1:\"Credit card or prepaid card\",\n",
    "               2:\"Others\",\n",
    "               3:\"Theft/Dispute Reporting\",\n",
    "               4:\"Mortgage/Loan\"  }\n",
    "\n",
    "# Replace Topics with Topic Names\n",
    "df_clean['Topic'] = df_clean['Topic_ID'].map(Topic_names)"
   ]
  },
  {
   "cell_type": "code",
   "execution_count": 53,
   "metadata": {
    "colab": {
     "base_uri": "https://localhost:8080/",
     "height": 288
    },
    "id": "-2ULY5K6JrGG",
    "outputId": "5dda020e-a348-446d-f4b0-3538e1781c6d"
   },
   "outputs": [
    {
     "data": {
      "text/html": [
       "<div>\n",
       "<style scoped>\n",
       "    .dataframe tbody tr th:only-of-type {\n",
       "        vertical-align: middle;\n",
       "    }\n",
       "\n",
       "    .dataframe tbody tr th {\n",
       "        vertical-align: top;\n",
       "    }\n",
       "\n",
       "    .dataframe thead th {\n",
       "        text-align: right;\n",
       "    }\n",
       "</style>\n",
       "<table border=\"1\" class=\"dataframe\">\n",
       "  <thead>\n",
       "    <tr style=\"text-align: right;\">\n",
       "      <th></th>\n",
       "      <th>complaints</th>\n",
       "      <th>lemmatized_complaints</th>\n",
       "      <th>complaints_with_removed_pos</th>\n",
       "      <th>complaint_clean</th>\n",
       "      <th>Topic_ID</th>\n",
       "      <th>Topic</th>\n",
       "    </tr>\n",
       "  </thead>\n",
       "  <tbody>\n",
       "    <tr>\n",
       "      <th>0</th>\n",
       "      <td>Good morning my name is XXXX XXXX and I apprec...</td>\n",
       "      <td>good morning name xxxx xxxx appreciate could h...</td>\n",
       "      <td>morning name chase debt verification statement...</td>\n",
       "      <td>morning name chase debt verification statement...</td>\n",
       "      <td>4</td>\n",
       "      <td>Mortgage/Loan</td>\n",
       "    </tr>\n",
       "    <tr>\n",
       "      <th>1</th>\n",
       "      <td>I upgraded my XXXX XXXX card in XX/XX/2018 and...</td>\n",
       "      <td>upgraded xxxx xxxx card told agent upgrade ann...</td>\n",
       "      <td>card agent anniversary date agent information ...</td>\n",
       "      <td>card agent anniversary date agent information ...</td>\n",
       "      <td>3</td>\n",
       "      <td>Theft/Dispute Reporting</td>\n",
       "    </tr>\n",
       "    <tr>\n",
       "      <th>2</th>\n",
       "      <td>Chase Card was reported on XX/XX/2019. However...</td>\n",
       "      <td>chase card reported however fraudulent applica...</td>\n",
       "      <td>card application identity consent service cred...</td>\n",
       "      <td>card application identity consent service cred...</td>\n",
       "      <td>1</td>\n",
       "      <td>Credit card or prepaid card</td>\n",
       "    </tr>\n",
       "    <tr>\n",
       "      <th>3</th>\n",
       "      <td>On XX/XX/2018, while trying to book a XXXX  XX...</td>\n",
       "      <td>trying book xxxx xxxx ticket came across offer...</td>\n",
       "      <td>ticket offer ticket reward card information of...</td>\n",
       "      <td>ticket offer ticket reward card information of...</td>\n",
       "      <td>1</td>\n",
       "      <td>Credit card or prepaid card</td>\n",
       "    </tr>\n",
       "    <tr>\n",
       "      <th>4</th>\n",
       "      <td>my grand son give me check for {$1600.00} i de...</td>\n",
       "      <td>grand son give check deposit chase account fun...</td>\n",
       "      <td>son check account money son money pay son time...</td>\n",
       "      <td>son check account money son money pay son time...</td>\n",
       "      <td>0</td>\n",
       "      <td>Bank Account services</td>\n",
       "    </tr>\n",
       "  </tbody>\n",
       "</table>\n",
       "</div>"
      ],
      "text/plain": [
       "                                          complaints  ...                        Topic\n",
       "0  Good morning my name is XXXX XXXX and I apprec...  ...                Mortgage/Loan\n",
       "1  I upgraded my XXXX XXXX card in XX/XX/2018 and...  ...      Theft/Dispute Reporting\n",
       "2  Chase Card was reported on XX/XX/2019. However...  ...  Credit card or prepaid card\n",
       "3  On XX/XX/2018, while trying to book a XXXX  XX...  ...  Credit card or prepaid card\n",
       "4  my grand son give me check for {$1600.00} i de...  ...        Bank Account services\n",
       "\n",
       "[5 rows x 6 columns]"
      ]
     },
     "execution_count": 53,
     "metadata": {},
     "output_type": "execute_result"
    }
   ],
   "source": [
    "df_clean.head(5)"
   ]
  },
  {
   "cell_type": "markdown",
   "metadata": {
    "id": "7Mu0QBOcJrGH"
   },
   "source": [
    "## Supervised model to predict any new complaints to the relevant Topics.\n",
    "\n",
    "You have now build the model to create the topics for each complaints.Now in the below section you will use them to classify any new complaints.\n",
    "\n",
    "Since you will be using supervised learning technique we have to convert the topic names to numbers(numpy arrays only understand numbers)"
   ]
  },
  {
   "cell_type": "code",
   "execution_count": 54,
   "metadata": {
    "colab": {
     "base_uri": "https://localhost:8080/",
     "height": 204
    },
    "id": "Xx-FrbkWJrGH",
    "outputId": "dffe7ea2-7371-44cc-8ada-de27462bdc0f"
   },
   "outputs": [
    {
     "data": {
      "text/html": [
       "<div>\n",
       "<style scoped>\n",
       "    .dataframe tbody tr th:only-of-type {\n",
       "        vertical-align: middle;\n",
       "    }\n",
       "\n",
       "    .dataframe tbody tr th {\n",
       "        vertical-align: top;\n",
       "    }\n",
       "\n",
       "    .dataframe thead th {\n",
       "        text-align: right;\n",
       "    }\n",
       "</style>\n",
       "<table border=\"1\" class=\"dataframe\">\n",
       "  <thead>\n",
       "    <tr style=\"text-align: right;\">\n",
       "      <th></th>\n",
       "      <th>complaint_clean</th>\n",
       "      <th>Topic_ID</th>\n",
       "    </tr>\n",
       "  </thead>\n",
       "  <tbody>\n",
       "    <tr>\n",
       "      <th>0</th>\n",
       "      <td>morning name chase debt verification statement...</td>\n",
       "      <td>4</td>\n",
       "    </tr>\n",
       "    <tr>\n",
       "      <th>1</th>\n",
       "      <td>card agent anniversary date agent information ...</td>\n",
       "      <td>3</td>\n",
       "    </tr>\n",
       "    <tr>\n",
       "      <th>2</th>\n",
       "      <td>card application identity consent service cred...</td>\n",
       "      <td>1</td>\n",
       "    </tr>\n",
       "    <tr>\n",
       "      <th>3</th>\n",
       "      <td>ticket offer ticket reward card information of...</td>\n",
       "      <td>1</td>\n",
       "    </tr>\n",
       "    <tr>\n",
       "      <th>4</th>\n",
       "      <td>son check account money son money pay son time...</td>\n",
       "      <td>0</td>\n",
       "    </tr>\n",
       "  </tbody>\n",
       "</table>\n",
       "</div>"
      ],
      "text/plain": [
       "                                     complaint_clean  Topic_ID\n",
       "0  morning name chase debt verification statement...         4\n",
       "1  card agent anniversary date agent information ...         3\n",
       "2  card application identity consent service cred...         1\n",
       "3  ticket offer ticket reward card information of...         1\n",
       "4  son check account money son money pay son time...         0"
      ]
     },
     "execution_count": 54,
     "metadata": {},
     "output_type": "execute_result"
    }
   ],
   "source": [
    "# Keep the columns \"complaint_what_happened\" & \"Topic\" only in the new dataframe --> training_data\n",
    "\n",
    "training_data=df_clean[[\"complaint_clean\",\"Topic_ID\"]]\n",
    "training_data.head(5)"
   ]
  },
  {
   "cell_type": "markdown",
   "metadata": {
    "id": "280Vbqk-7a8M"
   },
   "source": [
    "####Apply the supervised models on the training data created. In this process, you have to do the following:\n",
    "* Create the vector counts using Count Vectoriser\n",
    "* Transform the word vecotr to tf-idf\n",
    "* Create the train & test data using the train_test_split on the tf-idf & topics\n"
   ]
  },
  {
   "cell_type": "code",
   "execution_count": 55,
   "metadata": {
    "id": "oUlQpgkzJrGI"
   },
   "outputs": [],
   "source": [
    "# Write your code to get the Vector count\n",
    "\n",
    "count_vec = CountVectorizer()\n",
    "X_train_counts = count_vec.fit_transform(training_data['complaint_clean'])\n",
    "\n",
    "# Write your code here to transform the word vector to tf-idf\n",
    "tfidf_transf = TfidfTransformer()\n",
    "X_train_tfidf = tfidf_transf.fit_transform(X_train_counts)"
   ]
  },
  {
   "cell_type": "code",
   "execution_count": 56,
   "metadata": {
    "id": "bfgPhBNAr4hG"
   },
   "outputs": [],
   "source": [
    "# The final processed training data that can be used in model building\n",
    "\n",
    "X = X_train_tfidf\n",
    "y = training_data.Topic_ID"
   ]
  },
  {
   "cell_type": "markdown",
   "metadata": {
    "id": "uMU3vj6w-wqL"
   },
   "source": [
    "You have to try atleast 3 models on the train & test data from these options:\n",
    "* Logistic regression\n",
    "* Decision Tree\n",
    "* Random Forest\n",
    "* Naive Bayes (optional)\n",
    "\n",
    "**Using the required evaluation metrics judge the tried models and select the ones performing the best**"
   ]
  },
  {
   "cell_type": "code",
   "execution_count": 57,
   "metadata": {
    "id": "udLHpPsZJrGI"
   },
   "outputs": [],
   "source": [
    "# Write your code here to build any 3 models and evaluate them using the required metrics\n",
    "\n",
    "X_train, X_test, y_train, y_test = train_test_split(X, y, test_size=0.30, random_state=101)\n"
   ]
  },
  {
   "cell_type": "code",
   "execution_count": 58,
   "metadata": {
    "colab": {
     "base_uri": "https://localhost:8080/"
    },
    "id": "6s6D1iMd5Bc_",
    "outputId": "c6334698-81da-41b3-aec3-f05ef2d61c27"
   },
   "outputs": [
    {
     "name": "stdout",
     "output_type": "stream",
     "text": [
      "(14750, 12655)\n",
      "(14750,)\n",
      "(6322, 12655)\n",
      "(6322,)\n"
     ]
    }
   ],
   "source": [
    "# Lets check the shape of training and test data\n",
    "\n",
    "print(X_train.shape)\n",
    "print(y_train.shape)\n",
    "print(X_test.shape)\n",
    "print(y_test.shape)"
   ]
  },
  {
   "cell_type": "markdown",
   "metadata": {
    "id": "-JGPOjBeIMD_"
   },
   "source": [
    "**Logistic Regression**"
   ]
  },
  {
   "cell_type": "code",
   "execution_count": 59,
   "metadata": {
    "id": "N2OznsObJrGP"
   },
   "outputs": [],
   "source": [
    "# Let's STart with Logistic Regression First\n",
    "\n",
    "from sklearn.linear_model import LogisticRegression\n",
    "from sklearn.metrics import f1_score\n",
    "from sklearn.model_selection import GridSearchCV\n",
    "from sklearn.model_selection import StratifiedKFold\n"
   ]
  },
  {
   "cell_type": "code",
   "execution_count": 60,
   "metadata": {
    "colab": {
     "base_uri": "https://localhost:8080/"
    },
    "id": "XsNQWKO1IMp4",
    "outputId": "99153dce-b32b-45af-c446-5eb8caa4d116"
   },
   "outputs": [
    {
     "name": "stdout",
     "output_type": "stream",
     "text": [
      "Fitting 5 folds for each of 48 candidates, totalling 240 fits\n"
     ]
    },
    {
     "name": "stderr",
     "output_type": "stream",
     "text": [
      "[Parallel(n_jobs=-1)]: Using backend LokyBackend with 2 concurrent workers.\n",
      "[Parallel(n_jobs=-1)]: Done  46 tasks      | elapsed:    9.2s\n",
      "[Parallel(n_jobs=-1)]: Done 196 tasks      | elapsed:  1.1min\n",
      "[Parallel(n_jobs=-1)]: Done 240 out of 240 | elapsed:  1.5min finished\n"
     ]
    },
    {
     "data": {
      "text/plain": [
       "GridSearchCV(cv=StratifiedKFold(n_splits=5, random_state=101, shuffle=True),\n",
       "             error_score=nan,\n",
       "             estimator=LogisticRegression(C=1.0, class_weight=None, dual=False,\n",
       "                                          fit_intercept=True,\n",
       "                                          intercept_scaling=1, l1_ratio=None,\n",
       "                                          max_iter=100, multi_class='auto',\n",
       "                                          n_jobs=None, penalty='l2',\n",
       "                                          random_state=None, solver='lbfgs',\n",
       "                                          tol=0.0001, verbose=0,\n",
       "                                          warm_start=False),\n",
       "             iid='deprecated', n_jobs=-1,\n",
       "             param_grid={'C': [0.01, 0.1, 1, 2, 3, 4, 5, 10],\n",
       "                         'penalty': ['l1', 'l2'],\n",
       "                         'solver': ['newton-cg', 'liblinear', 'sag']},\n",
       "             pre_dispatch='2*n_jobs', refit=True, return_train_score=False,\n",
       "             scoring=None, verbose=1)"
      ]
     },
     "execution_count": 60,
     "metadata": {},
     "output_type": "execute_result"
    }
   ],
   "source": [
    "# Logistic Regression model with grid search cross validation technique to get the best parameters and best performance score\n",
    "\n",
    "lr = LogisticRegression()\n",
    "\n",
    "lr_params = {\n",
    "            'C': [0.01, 0.1, 1, 2, 3, 4, 5, 10],\n",
    "            'penalty': ['l1', 'l2'],\n",
    "            'solver': ['newton-cg', 'liblinear', 'sag']\n",
    "}\n",
    "\n",
    "folds = StratifiedKFold(n_splits=5, shuffle=True, random_state=101)\n",
    "\n",
    "lr_grid_search = GridSearchCV(estimator=lr, \n",
    "                         param_grid=lr_params,\n",
    "                         cv=folds,\n",
    "                         verbose=1,\n",
    "                         n_jobs=-1)\n",
    "\n",
    "lr_grid_search.fit(X_train, y_train)"
   ]
  },
  {
   "cell_type": "code",
   "execution_count": 61,
   "metadata": {
    "colab": {
     "base_uri": "https://localhost:8080/"
    },
    "id": "do-_QUYUIMl-",
    "outputId": "848db006-a366-4895-a9a2-ee799f2ce64f"
   },
   "outputs": [
    {
     "name": "stdout",
     "output_type": "stream",
     "text": [
      "best parameters- {'C': 5, 'penalty': 'l2', 'solver': 'sag'}\n",
      "best score- 0.9590508474576271\n"
     ]
    }
   ],
   "source": [
    "# The best model parameters and best score\n",
    "\n",
    "print(\"best parameters- {}\".format(lr_grid_search.best_params_))\n",
    "print(\"best score- {}\".format(lr_grid_search.best_score_))"
   ]
  },
  {
   "cell_type": "code",
   "execution_count": 62,
   "metadata": {
    "colab": {
     "base_uri": "https://localhost:8080/"
    },
    "id": "5nq0j3hmIMfv",
    "outputId": "113ef404-d2ca-4d11-95d3-365768433efd"
   },
   "outputs": [
    {
     "name": "stdout",
     "output_type": "stream",
     "text": [
      "F1 Score is 0.957\n"
     ]
    }
   ],
   "source": [
    "# Predict the model using test data and find f1 score\n",
    "\n",
    "y_pred = lr_grid_search.predict(X_test)\n",
    "\n",
    "f1_lr = round(f1_score(y_test,y_pred, average='weighted'), 3)\n",
    "print(\"F1 Score is {}\".format(f1_lr))"
   ]
  },
  {
   "cell_type": "markdown",
   "metadata": {
    "id": "TSIdo9vrXmQc"
   },
   "source": [
    "**Decision Tree**"
   ]
  },
  {
   "cell_type": "code",
   "execution_count": 63,
   "metadata": {
    "id": "ommPN8sAlA5r"
   },
   "outputs": [],
   "source": [
    "# Let's try with Decisions Tree\n",
    "\n",
    "from sklearn.tree import DecisionTreeClassifier"
   ]
  },
  {
   "cell_type": "code",
   "execution_count": 64,
   "metadata": {
    "colab": {
     "base_uri": "https://localhost:8080/"
    },
    "id": "pOX_lKtlxGhr",
    "outputId": "f13cfbcf-f94b-47db-b44d-01935272e008"
   },
   "outputs": [
    {
     "name": "stdout",
     "output_type": "stream",
     "text": [
      "Fitting 5 folds for each of 120 candidates, totalling 600 fits\n"
     ]
    },
    {
     "name": "stderr",
     "output_type": "stream",
     "text": [
      "[Parallel(n_jobs=-1)]: Using backend LokyBackend with 2 concurrent workers.\n",
      "[Parallel(n_jobs=-1)]: Done  62 tasks      | elapsed:   36.1s\n",
      "[Parallel(n_jobs=-1)]: Done 212 tasks      | elapsed:  2.2min\n",
      "[Parallel(n_jobs=-1)]: Done 462 tasks      | elapsed:  6.2min\n",
      "[Parallel(n_jobs=-1)]: Done 600 out of 600 | elapsed:  8.7min finished\n"
     ]
    },
    {
     "data": {
      "text/plain": [
       "GridSearchCV(cv=StratifiedKFold(n_splits=5, random_state=101, shuffle=True),\n",
       "             error_score=nan,\n",
       "             estimator=DecisionTreeClassifier(ccp_alpha=0.0, class_weight=None,\n",
       "                                              criterion='gini', max_depth=None,\n",
       "                                              max_features=None,\n",
       "                                              max_leaf_nodes=None,\n",
       "                                              min_impurity_decrease=0.0,\n",
       "                                              min_impurity_split=None,\n",
       "                                              min_samples_leaf=1,\n",
       "                                              min_samples_split=2,\n",
       "                                              min_weight_fraction_leaf=0.0,\n",
       "                                              presort='deprecated',\n",
       "                                              random_state=None,\n",
       "                                              splitter='best'),\n",
       "             iid='deprecated', n_jobs=-1,\n",
       "             param_grid={'criterion': ['entropy'], 'max_depth': [10, 15, 20],\n",
       "                         'min_samples_leaf': [1, 2, 3, 5],\n",
       "                         'min_samples_split': [1, 2, 3, 4, 5],\n",
       "                         'splitter': ['best', 'random']},\n",
       "             pre_dispatch='2*n_jobs', refit=True, return_train_score=False,\n",
       "             scoring=None, verbose=1)"
      ]
     },
     "execution_count": 64,
     "metadata": {},
     "output_type": "execute_result"
    }
   ],
   "source": [
    "# Decision Tree model with grid search cross validation technique to get the best parameters and best performance score\n",
    "\n",
    "dt = DecisionTreeClassifier()\n",
    "\n",
    "dt_params = {'max_depth': [10,15,20],\n",
    "            'min_samples_leaf': [1,2,3,5],\n",
    "            'min_samples_split': [1,2,3,4,5],\n",
    "             'splitter': ['best', 'random'],\n",
    "            'criterion': ['entropy']\n",
    "             }\n",
    "\n",
    "folds = StratifiedKFold(n_splits=5, shuffle=True, random_state=101)\n",
    "\n",
    "dt_grid_search = GridSearchCV(estimator=dt,\n",
    "                    param_grid=dt_params,\n",
    "                    cv=folds,\n",
    "                    n_jobs=-1,\n",
    "                    verbose=1)\n",
    "\n",
    "dt_grid_search.fit(X_train, y_train)"
   ]
  },
  {
   "cell_type": "code",
   "execution_count": 65,
   "metadata": {
    "colab": {
     "base_uri": "https://localhost:8080/"
    },
    "id": "sQq9Ei3dxGhs",
    "outputId": "8a644c1a-f6cd-49c6-bfc5-dc299905ae72"
   },
   "outputs": [
    {
     "name": "stdout",
     "output_type": "stream",
     "text": [
      "best parameters- {'criterion': 'entropy', 'max_depth': 20, 'min_samples_leaf': 5, 'min_samples_split': 4, 'splitter': 'best'}\n",
      "best score- 0.8316610169491525\n"
     ]
    }
   ],
   "source": [
    "# The best model parameters and best score\n",
    "\n",
    "print(\"best parameters- {}\".format(dt_grid_search.best_params_))\n",
    "print(\"best score- {}\".format(dt_grid_search.best_score_))"
   ]
  },
  {
   "cell_type": "code",
   "execution_count": 66,
   "metadata": {
    "colab": {
     "base_uri": "https://localhost:8080/"
    },
    "id": "bMLN8TP0xGhs",
    "outputId": "e745756d-7f85-4cd2-fc04-de24d7f85783"
   },
   "outputs": [
    {
     "name": "stdout",
     "output_type": "stream",
     "text": [
      "F1 Score is 0.828\n"
     ]
    }
   ],
   "source": [
    "# Predict the model using test data and find f1 score\n",
    "\n",
    "y_pred = dt_grid_search.predict(X_test)\n",
    "\n",
    "f1_dt = round(f1_score(y_test,y_pred, average='weighted'), 3)\n",
    "print(\"F1 Score is {}\".format(f1_dt))"
   ]
  },
  {
   "cell_type": "markdown",
   "metadata": {
    "id": "SD7_Nh5SIUV6"
   },
   "source": [
    "**Random Forest**"
   ]
  },
  {
   "cell_type": "code",
   "execution_count": 67,
   "metadata": {
    "id": "DjCAQuuBDWnH"
   },
   "outputs": [],
   "source": [
    "# Lets Try with Random Forest\n",
    "\n",
    "from sklearn.ensemble import RandomForestClassifier"
   ]
  },
  {
   "cell_type": "code",
   "execution_count": 68,
   "metadata": {
    "colab": {
     "base_uri": "https://localhost:8080/"
    },
    "id": "WrDdosmqkv-S",
    "outputId": "88de0914-6456-4785-c5be-24bd65790a5b",
    "scrolled": true
   },
   "outputs": [
    {
     "name": "stdout",
     "output_type": "stream",
     "text": [
      "Fitting 5 folds for each of 27 candidates, totalling 135 fits\n"
     ]
    },
    {
     "name": "stderr",
     "output_type": "stream",
     "text": [
      "[Parallel(n_jobs=-1)]: Using backend LokyBackend with 2 concurrent workers.\n",
      "/usr/local/lib/python3.7/dist-packages/joblib/externals/loky/process_executor.py:691: UserWarning:\n",
      "\n",
      "A worker stopped while some jobs were given to the executor. This can be caused by a too short worker timeout or by a memory leak.\n",
      "\n",
      "[Parallel(n_jobs=-1)]: Done  56 tasks      | elapsed:  7.8min\n",
      "[Parallel(n_jobs=-1)]: Done 135 out of 135 | elapsed: 13.2min finished\n"
     ]
    },
    {
     "data": {
      "text/plain": [
       "GridSearchCV(cv=StratifiedKFold(n_splits=5, random_state=101, shuffle=True),\n",
       "             error_score=nan,\n",
       "             estimator=RandomForestClassifier(bootstrap=True, ccp_alpha=0.0,\n",
       "                                              class_weight=None,\n",
       "                                              criterion='gini', max_depth=None,\n",
       "                                              max_features='auto',\n",
       "                                              max_leaf_nodes=None,\n",
       "                                              max_samples=None,\n",
       "                                              min_impurity_decrease=0.0,\n",
       "                                              min_impurity_split=None,\n",
       "                                              min_samples_leaf=1,\n",
       "                                              min_samples_split=2,\n",
       "                                              min_weight_fraction_leaf=0.0,\n",
       "                                              n_estimators=100, n_jobs=None,\n",
       "                                              oob_score=False,\n",
       "                                              random_state=None, verbose=0,\n",
       "                                              warm_start=False),\n",
       "             iid='deprecated', n_jobs=-1,\n",
       "             param_grid={'criterion': ['entropy'],\n",
       "                         'min_samples_leaf': [1, 2, 5],\n",
       "                         'min_samples_split': [1, 2, 5],\n",
       "                         'n_estimators': [50, 100, 150]},\n",
       "             pre_dispatch='2*n_jobs', refit=True, return_train_score=False,\n",
       "             scoring=None, verbose=1)"
      ]
     },
     "execution_count": 68,
     "metadata": {},
     "output_type": "execute_result"
    }
   ],
   "source": [
    "# Random Forest model with grid search cross validation technique to get the best parameters and best performance score\n",
    "\n",
    "rf = RandomForestClassifier()\n",
    "\n",
    "rf_param = {\n",
    "            'min_samples_split': [1,2,5],\n",
    "            'min_samples_leaf': [1,2,5],\n",
    "            'n_estimators': [50,100,150],\n",
    "            'criterion': ['entropy']\n",
    "}\n",
    "\n",
    "folds = StratifiedKFold(n_splits=5, shuffle=True, random_state=101)\n",
    "\n",
    "rf_grid_search = GridSearchCV(estimator=rf,\n",
    "                              param_grid=rf_param,\n",
    "                              cv=folds,\n",
    "                              n_jobs=-1,\n",
    "                              verbose=1)\n",
    "\n",
    "rf_grid_search.fit(X_train, y_train)"
   ]
  },
  {
   "cell_type": "code",
   "execution_count": 69,
   "metadata": {
    "colab": {
     "base_uri": "https://localhost:8080/"
    },
    "id": "zRwSXVcSp4cN",
    "outputId": "0c9392d5-7225-4b03-c959-5fc902769a5a"
   },
   "outputs": [
    {
     "name": "stdout",
     "output_type": "stream",
     "text": [
      "best parameters- {'criterion': 'entropy', 'min_samples_leaf': 1, 'min_samples_split': 2, 'n_estimators': 150}\n",
      "best score- 0.8575593220338984\n"
     ]
    }
   ],
   "source": [
    "# The best model parameters and best score\n",
    "\n",
    "print(\"best parameters- {}\".format(rf_grid_search.best_params_))\n",
    "print(\"best score- {}\".format(rf_grid_search.best_score_))"
   ]
  },
  {
   "cell_type": "code",
   "execution_count": 70,
   "metadata": {
    "colab": {
     "base_uri": "https://localhost:8080/"
    },
    "id": "dXlkNE-Q-myU",
    "outputId": "7f09be6b-3984-4f4f-aa8e-c40bc409ebef"
   },
   "outputs": [
    {
     "name": "stdout",
     "output_type": "stream",
     "text": [
      "F1 Score is 0.856\n"
     ]
    }
   ],
   "source": [
    "# Predict the model using test data and find f1 score\n",
    "\n",
    "y_pred = rf_grid_search.predict(X_test)\n",
    "\n",
    "f1_rf = round(f1_score(y_test,y_pred, average='weighted'), 3)\n",
    "print(\"F1 Score is {}\".format(f1_rf))"
   ]
  },
  {
   "cell_type": "markdown",
   "metadata": {
    "id": "pIT4RlV6IbmO"
   },
   "source": [
    "**Naive Bayes**"
   ]
  },
  {
   "cell_type": "code",
   "execution_count": 71,
   "metadata": {
    "id": "pvojjywnH2s7"
   },
   "outputs": [],
   "source": [
    "# Lets Try with Navia Bias\n",
    "from sklearn.naive_bayes import MultinomialNB\n"
   ]
  },
  {
   "cell_type": "code",
   "execution_count": 72,
   "metadata": {
    "colab": {
     "base_uri": "https://localhost:8080/"
    },
    "id": "OeCubG7i-06R",
    "outputId": "60590d62-ce5d-4e79-a16a-56a57b867016"
   },
   "outputs": [
    {
     "name": "stdout",
     "output_type": "stream",
     "text": [
      "Fitting 5 folds for each of 6 candidates, totalling 30 fits\n"
     ]
    },
    {
     "name": "stderr",
     "output_type": "stream",
     "text": [
      "[Parallel(n_jobs=-1)]: Using backend LokyBackend with 2 concurrent workers.\n",
      "[Parallel(n_jobs=-1)]: Done  30 out of  30 | elapsed:    0.4s finished\n"
     ]
    },
    {
     "data": {
      "text/plain": [
       "GridSearchCV(cv=StratifiedKFold(n_splits=5, random_state=101, shuffle=True),\n",
       "             error_score=nan,\n",
       "             estimator=MultinomialNB(alpha=1.0, class_prior=None,\n",
       "                                     fit_prior=True),\n",
       "             iid='deprecated', n_jobs=-1,\n",
       "             param_grid={'alpha': [0.01, 0.05, 0.1, 0.5, 1, 5]},\n",
       "             pre_dispatch='2*n_jobs', refit=True, return_train_score=False,\n",
       "             scoring=None, verbose=1)"
      ]
     },
     "execution_count": 72,
     "metadata": {},
     "output_type": "execute_result"
    }
   ],
   "source": [
    "# Naive Bayes model with grid search cross validation technique to get the best parameters and best performance score\n",
    "\n",
    "nb = MultinomialNB()\n",
    "\n",
    "nb_param = {'alpha':[0.01, 0.05, 0.1, 0.5, 1, 5]}\n",
    "\n",
    "folds = StratifiedKFold(n_splits=5, shuffle=True, random_state=101)\n",
    "\n",
    "nb_grid_search = GridSearchCV(estimator=nb,\n",
    "                              param_grid=nb_param,\n",
    "                              cv=folds,\n",
    "                              n_jobs=-1,\n",
    "                              verbose=1)\n",
    "\n",
    "nb_grid_search.fit(X_train, y_train)"
   ]
  },
  {
   "cell_type": "code",
   "execution_count": 73,
   "metadata": {
    "colab": {
     "base_uri": "https://localhost:8080/"
    },
    "id": "oHJrMG0k-0qj",
    "outputId": "e31d24e8-12b4-44e1-82cf-a7b6b295df12"
   },
   "outputs": [
    {
     "name": "stdout",
     "output_type": "stream",
     "text": [
      "best parameters- {'alpha': 0.1}\n",
      "best score- 0.7846779661016949\n"
     ]
    }
   ],
   "source": [
    "# The best model parameters and best score\n",
    "\n",
    "print(\"best parameters- {}\".format(nb_grid_search.best_params_))\n",
    "print(\"best score- {}\".format(nb_grid_search.best_score_))"
   ]
  },
  {
   "cell_type": "code",
   "execution_count": 74,
   "metadata": {
    "colab": {
     "base_uri": "https://localhost:8080/"
    },
    "id": "WP6VWW2VBYGo",
    "outputId": "eb6c8df6-aff6-46cc-feb5-45157044fe37"
   },
   "outputs": [
    {
     "name": "stdout",
     "output_type": "stream",
     "text": [
      "F1 Score is 0.777:\n"
     ]
    }
   ],
   "source": [
    "# Predict the model using test data and find f1 score\n",
    "\n",
    "y_pred = nb_grid_search.predict(X_test)\n",
    "\n",
    "f1_nb = round(f1_score(y_test,y_pred, average='weighted'), 3)\n",
    "print(\"F1 Score is {}:\".format(f1_nb))"
   ]
  },
  {
   "cell_type": "markdown",
   "metadata": {
    "id": "oDmfJUjyxGMw"
   },
   "source": [
    "### Model Comparision \n",
    "Let's compare all the models with respect to the f1 score and choose the best model for our prediction and model inference"
   ]
  },
  {
   "cell_type": "code",
   "execution_count": 75,
   "metadata": {
    "colab": {
     "base_uri": "https://localhost:8080/",
     "height": 172
    },
    "id": "RCRVbDpHwqhA",
    "outputId": "24615dd1-a338-4994-8fdd-2483d343ba4a"
   },
   "outputs": [
    {
     "data": {
      "text/html": [
       "<div>\n",
       "<style scoped>\n",
       "    .dataframe tbody tr th:only-of-type {\n",
       "        vertical-align: middle;\n",
       "    }\n",
       "\n",
       "    .dataframe tbody tr th {\n",
       "        vertical-align: top;\n",
       "    }\n",
       "\n",
       "    .dataframe thead th {\n",
       "        text-align: right;\n",
       "    }\n",
       "</style>\n",
       "<table border=\"1\" class=\"dataframe\">\n",
       "  <thead>\n",
       "    <tr style=\"text-align: right;\">\n",
       "      <th></th>\n",
       "      <th>f1_score</th>\n",
       "    </tr>\n",
       "  </thead>\n",
       "  <tbody>\n",
       "    <tr>\n",
       "      <th>f1_Logistic_Regression</th>\n",
       "      <td>0.957</td>\n",
       "    </tr>\n",
       "    <tr>\n",
       "      <th>f1_Decision_Tree</th>\n",
       "      <td>0.828</td>\n",
       "    </tr>\n",
       "    <tr>\n",
       "      <th>f1_Random_Forest</th>\n",
       "      <td>0.856</td>\n",
       "    </tr>\n",
       "    <tr>\n",
       "      <th>f1_Naive_Bayes</th>\n",
       "      <td>0.777</td>\n",
       "    </tr>\n",
       "  </tbody>\n",
       "</table>\n",
       "</div>"
      ],
      "text/plain": [
       "                        f1_score\n",
       "f1_Logistic_Regression     0.957\n",
       "f1_Decision_Tree           0.828\n",
       "f1_Random_Forest           0.856\n",
       "f1_Naive_Bayes             0.777"
      ]
     },
     "execution_count": 75,
     "metadata": {},
     "output_type": "execute_result"
    }
   ],
   "source": [
    "# Create dataframe of model's performance score\n",
    "\n",
    "f1_score_df = pd.DataFrame(index={'f1_Logistic_Regression', 'f1_Decision_Tree', 'f1_Random_Forest', 'f1_Naive_Bayes'}, columns={'f1_score'})\n",
    "f1_score_df['f1_score'] = [f1_lr, f1_dt, f1_rf, f1_nb]\n",
    "f1_score_df"
   ]
  },
  {
   "cell_type": "markdown",
   "metadata": {
    "id": "F4G2zy0GFVTH"
   },
   "source": [
    "**Findings**:\n",
    "1. It is obvious from the above f1_score dataframe that Logistic Regression is giving the best performance among all the other models.\n",
    "2. When moved from Decision tree to Random forest, f1 score has been improved however it is less than Logistic regression.\n",
    "3. Naive Bayes model is giving worst performance among all, hence not recommended."
   ]
  },
  {
   "cell_type": "markdown",
   "metadata": {},
   "source": [
    "**Conclusion:** We should go with Logistic Regression for our model inference"
   ]
  },
  {
   "cell_type": "markdown",
   "metadata": {
    "id": "rZRBYf-PGUsp"
   },
   "source": [
    "## Model Inference\n",
    "Apply the best model to predict a custom text to see its performance. "
   ]
  },
  {
   "cell_type": "code",
   "execution_count": 114,
   "metadata": {
    "id": "NkNrg3KTDnXH"
   },
   "outputs": [],
   "source": [
    "# Let's take some sample text corpus from various online complaint forums\n",
    "\n",
    "test_sample_corpus = [\n",
    "                      'I am writing this to dispute an incorrect charge on my bill. I dispute this charge because I have been charged twice for the same item. The purchase at Abc restaurant dated 3rd February 2014 has been charged twice. I have been a credit card holder of your bank since the past 7 years and have always received remarkable service. I hope that this dispute would be solved soon. I would sincerely appreciate your prompt assistance in this matter.',\n",
    "                      'The issue of inflexibility on the bank\\'s part to adjust the EMI amount or tenure in case of an interest rate revision',\n",
    "                      'The amount was deducted on 30th March 2020 at 3:34 pm with my debit card ending with *****5269. The same was done without asking for my consent or an OTP request. Furthermore, ensure that the deducted amount is refunded in my account immediately.',\n",
    "                      'I made my creditcard payment on 5th may 2020 via cheque. what happened was my credit card was blocked and i did not receive my new card . On my credit card statement the last four digits of my new card were mentioned so I thought that only last four digits of the card are changed and rest of the number is same but in actual last 8 digits of the card were changed so I changed just the last four digits and kept the previous digits unchanged and made the payment',\n",
    "                      'I saw an ad of netflix saying that \\\"try us free for 30 days! You won\\'t be charged until after your free month...\" but they charged me'\n",
    "                      ]\n",
    "\n",
    "\n",
    "# Create the dataframe of sample text corpus\n",
    "\n",
    "model_infer_df = pd.DataFrame()\n",
    "model_infer_df['complaints'] = test_sample_corpus\n",
    "\n",
    "\n",
    "# Lets do the preprocessing of sample text and convert into tfidf transformed data\n",
    "\n",
    "model_infer_df['clean_text'] = [extract_pos_tag(lemmatize_text(clean_text(complaint))) for complaint in model_infer_df.complaints]\n",
    "test_sample_vect = tfidf_transf.transform(count_vec.transform(model_infer_df.clean_text))"
   ]
  },
  {
   "cell_type": "code",
   "execution_count": 117,
   "metadata": {
    "id": "JsIMf_8QDnN9"
   },
   "outputs": [],
   "source": [
    "# Predict the topic/classification of the sample text with our best model - Logistic Regression\n",
    "\n",
    "model_infer_df['output'] = lr_grid_search.predict(test_sample_vect)\n",
    "model_infer_df['topic'] = model_infer_df['output'].map(Topic_names)"
   ]
  },
  {
   "cell_type": "code",
   "execution_count": 118,
   "metadata": {
    "colab": {
     "base_uri": "https://localhost:8080/",
     "height": 204
    },
    "id": "OWSV_STtDnKd",
    "outputId": "196a4f83-10e8-49ef-eb98-53f6af6cf32f"
   },
   "outputs": [
    {
     "data": {
      "text/html": [
       "<div>\n",
       "<style scoped>\n",
       "    .dataframe tbody tr th:only-of-type {\n",
       "        vertical-align: middle;\n",
       "    }\n",
       "\n",
       "    .dataframe tbody tr th {\n",
       "        vertical-align: top;\n",
       "    }\n",
       "\n",
       "    .dataframe thead th {\n",
       "        text-align: right;\n",
       "    }\n",
       "</style>\n",
       "<table border=\"1\" class=\"dataframe\">\n",
       "  <thead>\n",
       "    <tr style=\"text-align: right;\">\n",
       "      <th></th>\n",
       "      <th>complaints</th>\n",
       "      <th>clean_text</th>\n",
       "      <th>output</th>\n",
       "      <th>topic</th>\n",
       "    </tr>\n",
       "  </thead>\n",
       "  <tbody>\n",
       "    <tr>\n",
       "      <th>0</th>\n",
       "      <td>I am writing this to dispute an incorrect char...</td>\n",
       "      <td>dispute charge dispute charge item purchase re...</td>\n",
       "      <td>3</td>\n",
       "      <td>Theft/Dispute Reporting</td>\n",
       "    </tr>\n",
       "    <tr>\n",
       "      <th>1</th>\n",
       "      <td>The issue of inflexibility on the bank's part ...</td>\n",
       "      <td>part amount tenure case interest rate revision</td>\n",
       "      <td>4</td>\n",
       "      <td>Mortgage/Loan</td>\n",
       "    </tr>\n",
       "    <tr>\n",
       "      <th>2</th>\n",
       "      <td>The amount was deducted on 30th March 2020 at ...</td>\n",
       "      <td>amount card consent otp request amount account</td>\n",
       "      <td>0</td>\n",
       "      <td>Bank Account services</td>\n",
       "    </tr>\n",
       "    <tr>\n",
       "      <th>3</th>\n",
       "      <td>I made my creditcard payment on 5th may 2020 v...</td>\n",
       "      <td>payment cheque credit card card credit card st...</td>\n",
       "      <td>1</td>\n",
       "      <td>Credit card or prepaid card</td>\n",
       "    </tr>\n",
       "    <tr>\n",
       "      <th>4</th>\n",
       "      <td>I saw an ad of netflix saying that \"try us fre...</td>\n",
       "      <td>day month</td>\n",
       "      <td>2</td>\n",
       "      <td>Others</td>\n",
       "    </tr>\n",
       "  </tbody>\n",
       "</table>\n",
       "</div>"
      ],
      "text/plain": [
       "                                          complaints  ...                        topic\n",
       "0  I am writing this to dispute an incorrect char...  ...      Theft/Dispute Reporting\n",
       "1  The issue of inflexibility on the bank's part ...  ...                Mortgage/Loan\n",
       "2  The amount was deducted on 30th March 2020 at ...  ...        Bank Account services\n",
       "3  I made my creditcard payment on 5th may 2020 v...  ...  Credit card or prepaid card\n",
       "4  I saw an ad of netflix saying that \"try us fre...  ...                       Others\n",
       "\n",
       "[5 rows x 4 columns]"
      ]
     },
     "execution_count": 118,
     "metadata": {},
     "output_type": "execute_result"
    }
   ],
   "source": [
    "# Let's see the inference of the model for sample complaint text\n",
    "\n",
    "model_infer_df"
   ]
  },
  {
   "cell_type": "markdown",
   "metadata": {
    "id": "K4ZQ_vkD2dro"
   },
   "source": [
    "**Conclusion:** We can conclude from the above model inference that model is predicting almost correct topic/classifications over various complaints. However we can train the model for larger corpus of data to get more accurate result. But for the given data set, model is performing pretty well."
   ]
  },
  {
   "cell_type": "code",
   "execution_count": null,
   "metadata": {},
   "outputs": [],
   "source": []
  }
 ],
 "metadata": {
  "colab": {
   "collapsed_sections": [],
   "name": "Automatic_Ticket_Classification_Assignment_V3.ipynb",
   "provenance": []
  },
  "kernelspec": {
   "display_name": "Python 3",
   "language": "python",
   "name": "python3"
  },
  "language_info": {
   "codemirror_mode": {
    "name": "ipython",
    "version": 3
   },
   "file_extension": ".py",
   "mimetype": "text/x-python",
   "name": "python",
   "nbconvert_exporter": "python",
   "pygments_lexer": "ipython3",
   "version": "3.8.10"
  }
 },
 "nbformat": 4,
 "nbformat_minor": 1
}
